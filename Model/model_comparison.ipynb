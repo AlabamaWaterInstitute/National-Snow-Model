{
 "cells": [
  {
   "cell_type": "code",
   "execution_count": null,
   "metadata": {
    "collapsed": true
   },
   "outputs": [],
   "source": [
    "import numpy as np\n",
    "import pandas as pd\n",
    "import geopandas as gpd\n",
    "import netCDF4 as nc\n",
    "import matplotlib.pyplot as plt\n",
    "import seaborn as sns\n",
    "import folium\n",
    "import National_Snow_Model\n",
    "import NSM_SCA\n",
    "from datetime import datetime, timedelta\n",
    "import os"
   ]
  },
  {
   "cell_type": "code",
   "execution_count": null,
   "outputs": [],
   "source": [
    "# Load the data\n",
    "cwds = {\"no_fSCA_Region_Pred\": \"/Users/jmac/Library/CloudStorage/Box-Box/Snow_Modeling_Group/REU_UA/ModelOutput/NSM2018_no_fSCA_Region_Pred\",\n",
    "        \"fSCA_RegionVal\": \"/Users/jmac/Library/CloudStorage/Box-Box/Snow_Modeling_Group/REU_UA/ModelOutput/NSM2018_fSCA_RegionVal\",\n",
    "        \"no_fSCA_RegionVal\": \"/Users/jmac/Library/CloudStorage/Box-Box/Snow_Modeling_Group/REU_UA/ModelOutput/NSM2018_no_fSCA_RegionVal\"}"
   ],
   "metadata": {
    "collapsed": false
   }
  },
  {
   "cell_type": "code",
   "execution_count": null,
   "outputs": [],
   "source": [
    "dates = [datetime(2018, 12, 24), datetime(2019, 4, 15), datetime(2019, 7, 22)]"
   ],
   "metadata": {
    "collapsed": false
   }
  },
  {
   "cell_type": "markdown",
   "source": [
    "# Creates GeoJSON exports"
   ],
   "metadata": {
    "collapsed": false
   }
  },
  {
   "cell_type": "code",
   "execution_count": null,
   "outputs": [],
   "source": [
    "for cwd in cwds:\n",
    "    for date in dates:\n",
    "        # create SWE_Prediction class in the directory where the files are saved\n",
    "        nsm = National_Snow_Model.SWE_Prediction(cwds[cwd], date.strftime('%Y-%m-%d'))\n",
    "\n",
    "        nsm.Geo_df()  # create geodataframe from files\n",
    "\n",
    "        # Export to GeoJSON\n",
    "        nsm.SWE_gdf.to_file(cwds[cwd] + f'/NSM{date.strftime(\"%Y-%m-%d\")}_{cwd}.geojson', driver='GeoJSON')\n",
    "\n",
    "# os.system(f'say \"your program has completely finished\"')  # sometimes can take a while... only works on MacOS"
   ],
   "metadata": {
    "collapsed": false
   }
  },
  {
   "cell_type": "markdown",
   "source": [
    "# Combines Data from h5 files into a single DF"
   ],
   "metadata": {
    "collapsed": false
   }
  },
  {
   "cell_type": "code",
   "execution_count": null,
   "outputs": [],
   "source": [
    "from datetime import date, timedelta\n",
    "\n",
    "#Grab existing files based on water year\n",
    "prev_year = '2018'\n",
    "\n",
    "#input the new water year of choice\n",
    "water_year = '2019'\n",
    "\n",
    "prev_date = date(int(prev_year), 10, 1)\n",
    "new_date = date(int(water_year), 7, 31)\n",
    "\n",
    "#write code for CSV files\n",
    "\n",
    "#for h5 files\n",
    "Region_list = ['N_Sierras',\n",
    "                       'S_Sierras_High',\n",
    "                       'S_Sierras_Low',\n",
    "                       'Greater_Yellowstone',\n",
    "                       'N_Co_Rockies',\n",
    "                       'SW_Mont',\n",
    "                       'SW_Co_Rockies',\n",
    "                       'GBasin',\n",
    "                       'N_Wasatch',\n",
    "                       'N_Cascade',\n",
    "                       'S_Wasatch',\n",
    "                       'SW_Mtns',\n",
    "                       'E_WA_N_Id_W_Mont',\n",
    "                       'S_Wyoming',\n",
    "                       'SE_Co_Rockies',\n",
    "                       'Sawtooth',\n",
    "                       'Ca_Coast',\n",
    "                       'E_Or',\n",
    "                       'N_Yellowstone',\n",
    "                       'S_Cascade',\n",
    "                       'Wa_Coast',\n",
    "                       'Greater_Glacier',\n",
    "                       'Or_Coast'\n",
    "                      ]"
   ],
   "metadata": {
    "collapsed": false
   }
  },
  {
   "cell_type": "code",
   "execution_count": null,
   "outputs": [],
   "source": [
    "#can be altered to create list every n number of days by changing 7 to desired skip length\n",
    "def daterange(start_date, end_date):\n",
    "     for n in range(0, int((end_date - start_date).days) + 1, 7):\n",
    "        yield start_date + timedelta(n)\n",
    "\n",
    "#create empty list to store dates\n",
    "datelist = []\n",
    "#define start and end date for list of dates\n",
    "start_dt = prev_date\n",
    "end_dt = new_date\n",
    "#append dates to list\n",
    "for dt in daterange(start_dt, end_dt):\n",
    "    #print(dt.strftime(\"%Y-%m-%d\"))\n",
    "    dt=dt.strftime('%Y-%m-%d')\n",
    "    datelist.append(dt)"
   ],
   "metadata": {
    "collapsed": false
   }
  },
  {
   "cell_type": "code",
   "execution_count": null,
   "outputs": [],
   "source": [
    "datelist"
   ],
   "metadata": {
    "collapsed": false
   }
  },
  {
   "cell_type": "code",
   "execution_count": null,
   "outputs": [],
   "source": [
    "region_val = pd.read_pickle(\"/Users/jmac/Documents/Programming/REU/National-Snow-Model/Data/Processed/RegionVal.pkl\")\n",
    "\n",
    "superset = []\n",
    "\n",
    "for region in region_val:\n",
    "    superset.append(region_val[region])\n",
    "\n",
    "superset = pd.concat(superset)\n",
    "superset = superset.set_index('cell_id')"
   ],
   "metadata": {
    "collapsed": false
   }
  },
  {
   "cell_type": "code",
   "execution_count": null,
   "outputs": [],
   "source": [
    "runs = {}"
   ],
   "metadata": {
    "collapsed": false
   }
  },
  {
   "cell_type": "code",
   "execution_count": null,
   "outputs": [],
   "source": [
    "for cwd in cwds:\n",
    "    print(f\"on {cwd}\")\n",
    "    run = superset.copy()\n",
    "    for date in datelist:\n",
    "        print(f\"on {date}\")\n",
    "        run[date] = 0\n",
    "        for region in Region_list:\n",
    "            tmp = pd.read_hdf(f\"{cwds[cwd]}/Predictions/predictions{date}.h5\", key=region)\n",
    "            tmp = tmp[[date]]\n",
    "            run.update(tmp)\n",
    "            # print(tmp.head())\n",
    "    runs[cwd] = run"
   ],
   "metadata": {
    "collapsed": false
   }
  },
  {
   "cell_type": "code",
   "execution_count": null,
   "outputs": [],
   "source": [
    "megaset = pd.concat(runs)  # idk how to use multiindexing rn"
   ],
   "metadata": {
    "collapsed": false
   }
  },
  {
   "cell_type": "code",
   "execution_count": null,
   "outputs": [],
   "source": [
    "filled_megaset = megaset.fillna(0)"
   ],
   "metadata": {
    "collapsed": false
   }
  },
  {
   "cell_type": "markdown",
   "source": [
    "## Export to CSVs"
   ],
   "metadata": {
    "collapsed": false
   }
  },
  {
   "cell_type": "code",
   "execution_count": null,
   "outputs": [],
   "source": [
    "clean = {}\n",
    "for run in runs:\n",
    "    clean[run] = runs[run].drop(columns=['Lat','Long', 'elevation_m', 'northness'])\n",
    "    runs[run].to_csv(f\"/Users/jmac/Documents/Programming/REU/National-Snow-Model/Data/Processed/{run}.csv\")"
   ],
   "metadata": {
    "collapsed": false
   }
  },
  {
   "cell_type": "markdown",
   "source": [
    "## Graph Volume"
   ],
   "metadata": {
    "collapsed": false
   }
  },
  {
   "cell_type": "code",
   "execution_count": null,
   "outputs": [],
   "source": [
    "totals = {}\n",
    "for run in clean:\n",
    "    total_in = clean[run].sum(axis=0)\n",
    "    totals[run] = total_in"
   ],
   "metadata": {
    "collapsed": false
   }
  },
  {
   "cell_type": "code",
   "execution_count": null,
   "outputs": [],
   "source": [
    "df = pd.DataFrame(totals)"
   ],
   "metadata": {
    "collapsed": false
   }
  },
  {
   "cell_type": "code",
   "execution_count": null,
   "outputs": [],
   "source": [
    "df.rename(columns={'no_fSCA_Region_Pred': '5000ft Elevation Threshold', 'fSCA_RegionVal': 'fSCA Threshold', 'no_fSCA_RegionVal': 'Original Model'}, inplace=True)"
   ],
   "metadata": {
    "collapsed": false
   }
  },
  {
   "cell_type": "code",
   "execution_count": null,
   "outputs": [],
   "source": [
    "for col in df.columns:\n",
    "    df[f\"{col}_m\"] = df[col] / 39.3700787402  # convert inches to meters\n",
    "    df[f\"{col} Volume\"] = df[f\"{col}_m\"] / 1000  # convert meters to kilometers (using square kilometer grid, so we're done!)"
   ],
   "metadata": {
    "collapsed": false
   }
  },
  {
   "cell_type": "code",
   "execution_count": null,
   "outputs": [],
   "source": [
    "df.head()"
   ],
   "metadata": {
    "collapsed": false
   }
  },
  {
   "cell_type": "code",
   "execution_count": null,
   "outputs": [],
   "source": [
    "df.index = pd.to_datetime(df.index)\n",
    "df.info()"
   ],
   "metadata": {
    "collapsed": false
   }
  },
  {
   "cell_type": "code",
   "execution_count": null,
   "outputs": [],
   "source": [
    "sns.set_style(\"whitegrid\")\n",
    "sns.set_context(\"poster\")\n",
    "sns.set(rc={'figure.figsize':(11.7,5.27)})\n",
    "\n",
    "g = sns.lineplot(data=df[[\"Original Model Volume\", \"5000ft Elevation Threshold Volume\", \"fSCA Threshold Volume\"]], dashes=False, )\n",
    "t = plt.xticks(rotation=45, ha='right')\n",
    "plt.ylabel(\"SWE (km^3)\")\n",
    "plt.xlabel(\"Date\")\n",
    "plt.title(\"Comparison of Model's SWE predictions for 2018-2019 Water Year\")\n",
    "plt.savefig(\"/Users/jmac/Documents/REU/exports/2018-2019_SWE_Predictions.png\", dpi=600, bbox_inches='tight')\n",
    "plt.show()"
   ],
   "metadata": {
    "collapsed": false
   }
  },
  {
   "cell_type": "code",
   "execution_count": null,
   "outputs": [],
   "source": [],
   "metadata": {
    "collapsed": false
   }
  }
 ],
 "metadata": {
  "kernelspec": {
   "display_name": "Python 3",
   "language": "python",
   "name": "python3"
  },
  "language_info": {
   "codemirror_mode": {
    "name": "ipython",
    "version": 2
   },
   "file_extension": ".py",
   "mimetype": "text/x-python",
   "name": "python",
   "nbconvert_exporter": "python",
   "pygments_lexer": "ipython2",
   "version": "2.7.6"
  }
 },
 "nbformat": 4,
 "nbformat_minor": 0
}
