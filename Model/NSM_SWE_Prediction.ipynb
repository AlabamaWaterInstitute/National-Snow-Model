{
 "cells": [
  {
   "cell_type": "code",
   "execution_count": 1,
   "id": "boolean-pocket",
   "metadata": {},
   "outputs": [],
   "source": [
    "import os\n",
    "import National_Snow_Model\n",
    "\n",
    "#set path directory\n",
    "os.getcwd()\n",
    "os.chdir('..')\n",
    "cwd = os.getcwd()"
   ]
  },
  {
   "cell_type": "code",
   "execution_count": 3,
   "id": "0ea8c0c0",
   "metadata": {
    "scrolled": true
   },
   "outputs": [],
   "source": [
    "'''\n",
    "Data Assimilation for Post-Initial conditions \n",
    "'''\n",
    "\n",
    "#Dates\n",
    "#input current and previous weeks dates (these upload csv, must match dates)\n",
    "date = '06_23_2022'\n",
    "prevdate = '06_16_2022'\n",
    "\n",
    "#connect interactive script to Wasatch Snow module, \n",
    "Snow = National_Snow_Model.SWE_Prediction(cwd,date, prevdate)\n"
   ]
  },
  {
   "cell_type": "code",
   "execution_count": null,
   "id": "a035d062",
   "metadata": {},
   "outputs": [],
   "source": [
    "#create SnoTel data API to get site info!!!\n",
    "Snow.Data_Assimilation()"
   ]
  },
  {
   "cell_type": "code",
   "execution_count": 4,
   "id": "86257125",
   "metadata": {},
   "outputs": [
    {
     "name": "stderr",
     "output_type": "stream",
     "text": [
      "100%|██████████| 696/696 [00:00<00:00, 3115.48it/s]\n",
      "100%|██████████| 696/696 [00:00<00:00, 3199.75it/s]\n",
      "100%|██████████| 3349/3349 [00:00<00:00, 9249.67it/s]\n",
      "100%|██████████| 2458/2458 [00:00<00:00, 9736.35it/s]\n",
      "100%|██████████| 6642/6642 [00:00<00:00, 9595.75it/s]\n",
      "100%|██████████| 6448/6448 [00:00<00:00, 9691.29it/s]\n",
      "100%|██████████| 1707/1707 [00:00<00:00, 9753.66it/s]\n",
      "100%|██████████| 25/25 [00:00<00:00, 8354.52it/s]\n",
      "100%|██████████| 10/10 [00:00<00:00, 5013.51it/s]\n",
      "100%|██████████| 16/16 [00:00<00:00, 8017.79it/s]\n",
      "100%|██████████| 15/15 [00:00<00:00, 7512.19it/s]\n",
      "100%|██████████| 12/12 [00:00<00:00, 6011.90it/s]\n",
      "100%|██████████| 9/9 [00:00<00:00, 4514.86it/s]\n",
      "100%|██████████| 8/8 [00:00<00:00, 8017.79it/s]\n",
      "100%|██████████| 5/5 [00:00<00:00, 5013.51it/s]\n",
      "100%|██████████| 7/7 [00:00<00:00, 7022.27it/s]\n",
      "100%|██████████| 13/13 [00:00<00:00, 4334.68it/s]\n",
      "100%|██████████| 3/3 [00:00<00:00, 3004.52it/s]\n",
      "100%|██████████| 9/9 [00:00<00:00, 9020.01it/s]\n",
      "100%|██████████| 6/6 [00:00<?, ?it/s]\n",
      "100%|██████████| 12/12 [00:00<00:00, 6015.50it/s]\n",
      "100%|██████████| 1/1 [00:00<?, ?it/s]\n",
      "100%|██████████| 3/3 [00:00<00:00, 3008.11it/s]\n",
      "100%|██████████| 1/1 [00:00<?, ?it/s]\n"
     ]
    },
    {
     "name": "stdout",
     "output_type": "stream",
     "text": [
      "Fixing these bad sites in  N_Sierras :\n",
      "Fixing these bad sites in  S_Sierras :\n",
      "Fixing these bad sites in  Greater_Yellowstone :\n",
      "Fixing these bad sites in  N_Co_Rockies :\n",
      "Fixing these bad sites in  SW_Mont :\n",
      "Fixing these bad sites in  SW_Co_Rockies :\n",
      "Fixing these bad sites in  GBasin :\n",
      "Fixing these bad sites in  N_Wasatch :\n",
      "Fixing these bad sites in  N_Cascade :\n",
      "Fixing these bad sites in  S_Wasatch :\n",
      "Fixing these bad sites in  SW_Mtns :\n",
      "Fixing these bad sites in  E_WA_N_Id_W_Mont :\n",
      "Fixing these bad sites in  S_Wyoming :\n",
      "Fixing these bad sites in  SE_Co_Rockies :\n",
      "Fixing these bad sites in  Sawtooth :\n",
      "Fixing these bad sites in  Ca_Coast :\n",
      "Fixing these bad sites in  E_Or :\n",
      "Fixing these bad sites in  N_Yellowstone :\n",
      "Fixing these bad sites in  S_Cascade :\n",
      "Fixing these bad sites in  Wa_Coast :\n",
      "Fixing these bad sites in  Greater_Glacier :\n",
      "Fixing these bad sites in  Or_Coast :\n"
     ]
    },
    {
     "name": "stderr",
     "output_type": "stream",
     "text": [
      "100%|██████████| 22/22 [00:00<00:00, 22.49it/s]\n",
      "100%|██████████| 22/22 [00:50<00:00,  2.29s/it]\n"
     ]
    }
   ],
   "source": [
    "#Process observations into Model prediction ready format\n",
    "Snow.Data_Processing()"
   ]
  },
  {
   "cell_type": "code",
   "execution_count": 5,
   "id": "artistic-trader",
   "metadata": {
    "scrolled": true
   },
   "outputs": [
    {
     "name": "stdout",
     "output_type": "stream",
     "text": [
      "Making predictions for:  2022-06-23\n",
      "N_Sierras\n",
      "C:\\Users\\rjohnson18\\Box\\ItalianAlps\\SnowCast\\National_Snow_Model/Model/Prev_SWE_Models_Final/N_Sierras/N_Sierras_model.h5\n",
      "S_Sierras_High\n",
      "C:\\Users\\rjohnson18\\Box\\ItalianAlps\\SnowCast\\National_Snow_Model/Model/Prev_SWE_Models_Final/S_Sierras_High/S_Sierras_High_model.h5\n",
      "S_Sierras_Low\n",
      "C:\\Users\\rjohnson18\\Box\\ItalianAlps\\SnowCast\\National_Snow_Model/Model/Prev_SWE_Models_Final/S_Sierras_Low/S_Sierras_Low_model.h5\n",
      "Greater_Yellowstone\n",
      "C:\\Users\\rjohnson18\\Box\\ItalianAlps\\SnowCast\\National_Snow_Model/Model/Prev_SWE_Models_Final/Greater_Yellowstone/Greater_Yellowstone_model.h5\n",
      "N_Co_Rockies\n",
      "C:\\Users\\rjohnson18\\Box\\ItalianAlps\\SnowCast\\National_Snow_Model/Model/Prev_SWE_Models_Final/N_Co_Rockies/N_Co_Rockies_model.h5\n",
      "SW_Mont\n",
      "C:\\Users\\rjohnson18\\Box\\ItalianAlps\\SnowCast\\National_Snow_Model/Model/Prev_SWE_Models_Final/SW_Mont/SW_Mont_model.h5\n",
      "SW_Co_Rockies\n",
      "C:\\Users\\rjohnson18\\Box\\ItalianAlps\\SnowCast\\National_Snow_Model/Model/Prev_SWE_Models_Final/SW_Co_Rockies/SW_Co_Rockies_model.h5\n",
      "GBasin\n",
      "C:\\Users\\rjohnson18\\Box\\ItalianAlps\\SnowCast\\National_Snow_Model/Model/Prev_SWE_Models_Final/GBasin/GBasin_model.h5\n",
      "N_Wasatch\n",
      "C:\\Users\\rjohnson18\\Box\\ItalianAlps\\SnowCast\\National_Snow_Model/Model/Prev_SWE_Models_Final/N_Wasatch/N_Wasatch_model.h5\n",
      "N_Cascade\n",
      "C:\\Users\\rjohnson18\\Box\\ItalianAlps\\SnowCast\\National_Snow_Model/Model/Prev_SWE_Models_Final/N_Cascade/N_Cascade_model.h5\n",
      "S_Wasatch\n",
      "C:\\Users\\rjohnson18\\Box\\ItalianAlps\\SnowCast\\National_Snow_Model/Model/Prev_SWE_Models_Final/S_Wasatch/S_Wasatch_model.h5\n",
      "WARNING:tensorflow:5 out of the last 58 calls to <function Model.make_predict_function.<locals>.predict_function at 0x0000026C3CDB5B80> triggered tf.function retracing. Tracing is expensive and the excessive number of tracings could be due to (1) creating @tf.function repeatedly in a loop, (2) passing tensors with different shapes, (3) passing Python objects instead of tensors. For (1), please define your @tf.function outside of the loop. For (2), @tf.function has experimental_relax_shapes=True option that relaxes argument shapes that can avoid unnecessary retracing. For (3), please refer to https://www.tensorflow.org/guide/function#controlling_retracing and https://www.tensorflow.org/api_docs/python/tf/function for  more details.\n"
     ]
    },
    {
     "name": "stderr",
     "output_type": "stream",
     "text": [
      "WARNING:tensorflow:5 out of the last 58 calls to <function Model.make_predict_function.<locals>.predict_function at 0x0000026C3CDB5B80> triggered tf.function retracing. Tracing is expensive and the excessive number of tracings could be due to (1) creating @tf.function repeatedly in a loop, (2) passing tensors with different shapes, (3) passing Python objects instead of tensors. For (1), please define your @tf.function outside of the loop. For (2), @tf.function has experimental_relax_shapes=True option that relaxes argument shapes that can avoid unnecessary retracing. For (3), please refer to https://www.tensorflow.org/guide/function#controlling_retracing and https://www.tensorflow.org/api_docs/python/tf/function for  more details.\n"
     ]
    },
    {
     "name": "stdout",
     "output_type": "stream",
     "text": [
      "SW_Mtns\n",
      "C:\\Users\\rjohnson18\\Box\\ItalianAlps\\SnowCast\\National_Snow_Model/Model/Prev_SWE_Models_Final/SW_Mtns/SW_Mtns_model.h5\n",
      "WARNING:tensorflow:6 out of the last 59 calls to <function Model.make_predict_function.<locals>.predict_function at 0x0000026C3CDB5670> triggered tf.function retracing. Tracing is expensive and the excessive number of tracings could be due to (1) creating @tf.function repeatedly in a loop, (2) passing tensors with different shapes, (3) passing Python objects instead of tensors. For (1), please define your @tf.function outside of the loop. For (2), @tf.function has experimental_relax_shapes=True option that relaxes argument shapes that can avoid unnecessary retracing. For (3), please refer to https://www.tensorflow.org/guide/function#controlling_retracing and https://www.tensorflow.org/api_docs/python/tf/function for  more details.\n"
     ]
    },
    {
     "name": "stderr",
     "output_type": "stream",
     "text": [
      "WARNING:tensorflow:6 out of the last 59 calls to <function Model.make_predict_function.<locals>.predict_function at 0x0000026C3CDB5670> triggered tf.function retracing. Tracing is expensive and the excessive number of tracings could be due to (1) creating @tf.function repeatedly in a loop, (2) passing tensors with different shapes, (3) passing Python objects instead of tensors. For (1), please define your @tf.function outside of the loop. For (2), @tf.function has experimental_relax_shapes=True option that relaxes argument shapes that can avoid unnecessary retracing. For (3), please refer to https://www.tensorflow.org/guide/function#controlling_retracing and https://www.tensorflow.org/api_docs/python/tf/function for  more details.\n"
     ]
    },
    {
     "name": "stdout",
     "output_type": "stream",
     "text": [
      "E_WA_N_Id_W_Mont\n",
      "C:\\Users\\rjohnson18\\Box\\ItalianAlps\\SnowCast\\National_Snow_Model/Model/Prev_SWE_Models_Final/E_WA_N_Id_W_Mont/E_WA_N_Id_W_Mont_model.h5\n",
      "S_Wyoming\n",
      "C:\\Users\\rjohnson18\\Box\\ItalianAlps\\SnowCast\\National_Snow_Model/Model/Prev_SWE_Models_Final/S_Wyoming/S_Wyoming_model.h5\n",
      "SE_Co_Rockies\n",
      "C:\\Users\\rjohnson18\\Box\\ItalianAlps\\SnowCast\\National_Snow_Model/Model/Prev_SWE_Models_Final/SE_Co_Rockies/SE_Co_Rockies_model.h5\n",
      "Sawtooth\n",
      "C:\\Users\\rjohnson18\\Box\\ItalianAlps\\SnowCast\\National_Snow_Model/Model/Prev_SWE_Models_Final/Sawtooth/Sawtooth_model.h5\n",
      "Ca_Coast\n",
      "C:\\Users\\rjohnson18\\Box\\ItalianAlps\\SnowCast\\National_Snow_Model/Model/Prev_SWE_Models_Final/Ca_Coast/Ca_Coast_model.h5\n",
      "E_Or\n",
      "C:\\Users\\rjohnson18\\Box\\ItalianAlps\\SnowCast\\National_Snow_Model/Model/Prev_SWE_Models_Final/E_Or/E_Or_model.h5\n",
      "N_Yellowstone\n",
      "C:\\Users\\rjohnson18\\Box\\ItalianAlps\\SnowCast\\National_Snow_Model/Model/Prev_SWE_Models_Final/N_Yellowstone/N_Yellowstone_model.h5\n",
      "S_Cascade\n",
      "C:\\Users\\rjohnson18\\Box\\ItalianAlps\\SnowCast\\National_Snow_Model/Model/Prev_SWE_Models_Final/S_Cascade/S_Cascade_model.h5\n",
      "Wa_Coast\n",
      "C:\\Users\\rjohnson18\\Box\\ItalianAlps\\SnowCast\\National_Snow_Model/Model/Prev_SWE_Models_Final/Wa_Coast/Wa_Coast_model.h5\n",
      "Greater_Glacier\n",
      "C:\\Users\\rjohnson18\\Box\\ItalianAlps\\SnowCast\\National_Snow_Model/Model/Prev_SWE_Models_Final/Greater_Glacier/Greater_Glacier_model.h5\n",
      "Or_Coast\n",
      "C:\\Users\\rjohnson18\\Box\\ItalianAlps\\SnowCast\\National_Snow_Model/Model/Prev_SWE_Models_Final/Or_Coast/Or_Coast_model.h5\n"
     ]
    }
   ],
   "source": [
    "Snow.SWE_Predict(plot = False)\n",
    "#switch to run a specific region?"
   ]
  },
  {
   "cell_type": "code",
   "execution_count": 6,
   "id": "5628ea83",
   "metadata": {},
   "outputs": [
    {
     "name": "stdout",
     "output_type": "stream",
     "text": [
      "<class 'netCDF4._netCDF4.Dataset'>\n",
      "root group (NETCDF4 data model, file format HDF5):\n",
      "    title: SWE interpolation for 2022-06-23\n",
      "    dimensions(sizes): lat(2387), lon(5780), time(1)\n",
      "    variables(dimensions): float32 lat(lat), float32 lon(lon), float64 time(time), float64 SWE(time, lat, lon)\n",
      "    groups: \n",
      "File conversion to netcdf complete\n"
     ]
    }
   ],
   "source": [
    "#making CONUS dataset\n",
    "Snow.netCDF_CONUS(plot = False)"
   ]
  },
  {
   "cell_type": "code",
   "execution_count": 7,
   "id": "b7e6f10d",
   "metadata": {},
   "outputs": [
    {
     "name": "stdout",
     "output_type": "stream",
     "text": [
      "Converting to GeoDataFrame...\n",
      "File conversion complete, creating mapping instance\n"
     ]
    }
   ],
   "source": [
    "Snow.plot_interactive_SWE(pinlat = 39.1, pinlong = -120, web = True)"
   ]
  },
  {
   "cell_type": "code",
   "execution_count": null,
   "id": "cdfc04f3",
   "metadata": {},
   "outputs": [],
   "source": []
  }
 ],
 "metadata": {
  "kernelspec": {
   "display_name": "Python 3 (ipykernel)",
   "language": "python",
   "name": "python3"
  },
  "language_info": {
   "codemirror_mode": {
    "name": "ipython",
    "version": 3
   },
   "file_extension": ".py",
   "mimetype": "text/x-python",
   "name": "python",
   "nbconvert_exporter": "python",
   "pygments_lexer": "ipython3",
   "version": "3.9.7"
  }
 },
 "nbformat": 4,
 "nbformat_minor": 5
}
