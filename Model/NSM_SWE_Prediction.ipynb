{
 "cells": [
  {
   "cell_type": "code",
   "execution_count": 1,
   "id": "boolean-pocket",
   "metadata": {},
   "outputs": [],
   "source": [
    "'''\n",
    "Run on virtual environment: Snow_env with the following packages installed\n",
    "***tested on Python 3.9.12, does not work with python 3.10***\n",
    "\n",
    "Load all dependencies via cmd and pay special attention to version requirements.\n",
    "\n",
    "Steps for installing virtual env: https://janakiev.com/blog/jupyter-virtual-envs/\n",
    "\n",
    "1st geopandas: https://towardsdatascience.com/geopandas-installation-the-easy-way-for-windows-31a666b3610f\n",
    "Here are binaries: https://www.lfd.uci.edu/~gohlke/pythonlibs/\n",
    "2nd: rioxarray\n",
    "3rd: rasterio\n",
    "tables\n",
    "sklearn\n",
    "earthpy\n",
    "numpy 1.22\n",
    "pyshp 2.1\n",
    "h5py\n",
    "tqdm\n",
    "matplotlib 3.5\n",
    "seaborn\n",
    "tensorflow\n",
    "\n",
    "\n",
    "\n",
    "joblib\n",
    "pillow\n",
    "panda\n",
    "pyproj\n",
    "shapely\n",
    "kiwisolver\n",
    "fonttools\n",
    "pillow\n",
    "mpl_toolkits - pip install --user basemap\n",
    "**git clone https://github.com/matplotlib/matplotlib\n",
    "cd matplotlib\n",
    "pip install -e .**\n",
    "tables\n",
    "pytables\n",
    "\n",
    "\n",
    "Data Assimilation of snotel data\n",
    "https://snowex-hackweek.github.io/website/tutorials/geospatial/SNOTEL_query.html\n",
    "\n",
    "'''\n",
    "\n",
    "import os\n",
    "import National_Snow_Model\n",
    "\n",
    "#set path directory\n",
    "os.getcwd()\n",
    "os.chdir('..')\n",
    "cwd = os.getcwd()"
   ]
  },
  {
   "cell_type": "code",
   "execution_count": 2,
   "id": "0ea8c0c0",
   "metadata": {
    "scrolled": true
   },
   "outputs": [],
   "source": [
    "'''\n",
    "Model Spin Up\n",
    "'''\n",
    "\n",
    "#Dates\n",
    "#input current and previous weeks dates (these upload csv, must match dates)\n",
    "date = '2022-05-12'\n",
    "\n",
    "\n",
    "#connect interactive script to Wasatch Snow module\n",
    "Snow = National_Snow_Model.SWE_Prediction(cwd, date)\n"
   ]
  },
  {
   "cell_type": "code",
   "execution_count": 3,
   "id": "a035d062",
   "metadata": {},
   "outputs": [
    {
     "name": "stdout",
     "output_type": "stream",
     "text": [
      "Getting California Data Exchange Center SWE data from sites: \n",
      "ADM\n",
      "AGP\n",
      "ALP\n",
      "Unable to fetch SWE data for site  ALP SWE value: -9999\n",
      "BCB\n",
      "BCH\n",
      "BFL\n",
      "BGP\n",
      "BIM\n",
      "BKL\n",
      "BLA\n",
      "BLC\n",
      "BLD\n",
      "BLK\n",
      "BLS\n",
      "BMW\n",
      "BNK\n",
      "BSK\n",
      "CDP\n",
      "CHM\n",
      "CHP\n",
      "CRL\n",
      "CSL\n",
      "CSV\n",
      "CWD\n",
      "CWF\n",
      "CXS\n",
      "DAN\n",
      "Unable to fetch SWE data for site  DAN SWE value: -9999\n",
      "DDM\n",
      "DPO\n",
      "DSS\n",
      "EBB\n",
      "EP5\n",
      "FDC\n",
      "FLL\n",
      "FRN\n",
      "FRW\n",
      "GEM\n",
      "GIN\n",
      "Unable to fetch SWE data for site  GIN SWE value: -9999\n",
      "GKS\n",
      "GNF\n",
      "GNL\n",
      "GRM\n",
      "GRV\n",
      "GRZ\n",
      "HGM\n",
      "HIG\n",
      "HMB\n",
      "Unable to fetch SWE data for site  HMB SWE value: -9999\n",
      "HNT\n",
      "HOR\n",
      "HRK\n",
      "HRS\n",
      "HVN\n",
      "HYS\n",
      "IDC\n",
      "IDP\n",
      "INN\n",
      "KTL\n",
      "LBD\n",
      "LLP\n",
      "LVM\n",
      "LVT\n",
      "MDW\n",
      "MED\n",
      "MHP\n",
      "MNT\n",
      "MRL\n",
      "MSK\n",
      "MTM\n",
      "PDS\n",
      "Unable to fetch SWE data for site  PDS SWE value: -9999\n",
      "PET\n",
      "PSC\n",
      "PSN\n",
      "QUA\n",
      "RBP\n",
      "Unable to fetch SWE data for site  RBP SWE value: -9999\n",
      "RCC\n",
      "RCK\n",
      "RP2\n",
      "RRM\n",
      "RTL\n",
      "SCN\n",
      "SCT\n",
      "SDF\n",
      "SDW\n",
      "SHM\n",
      "SIL\n",
      "SLM\n",
      "SLT\n",
      "SPS\n",
      "SPT\n",
      "SQV\n",
      "Unable to fetch SWE data for site  SQV SWE value: -9999\n",
      "SSM\n",
      "SWM\n",
      "TCC\n",
      "TK2\n",
      "TMR\n",
      "TNY\n",
      "Unable to fetch SWE data for site  TNY SWE value: -9999\n",
      "TUM\n",
      "Unable to fetch SWE data for site  TUM SWE value: -9999\n",
      "UBC\n",
      "UTY\n",
      "VLC\n",
      "VRG\n",
      "VVL\n",
      "Unable to fetch SWE data for site  VVL SWE value: -9999\n",
      "WC3\n",
      "WHW\n",
      "WTM\n",
      "WWC\n",
      "Getting NRCS SNOTEL SWE data from sites: \n",
      "SNOTEL:1000_OR_SNTL\n",
      "SNOTEL:1004_WA_SNTL\n"
     ]
    },
    {
     "name": "stderr",
     "output_type": "stream",
     "text": [
      "<suds.sax.document.Document object at 0x000001D857C432E0>\n"
     ]
    },
    {
     "name": "stdout",
     "output_type": "stream",
     "text": [
      "Unable to fetch SWE data for site  SNOTEL:1004_WA_SNTL SWE value: -9999\n",
      "SNOTEL:1005_CO_SNTL\n",
      "SNOTEL:1007_OR_SNTL\n"
     ]
    },
    {
     "name": "stderr",
     "output_type": "stream",
     "text": [
      "<suds.sax.document.Document object at 0x000001D857C68E50>\n"
     ]
    },
    {
     "name": "stdout",
     "output_type": "stream",
     "text": [
      "Unable to fetch SWE data for site  SNOTEL:1007_OR_SNTL SWE value: -9999\n",
      "SNOTEL:1009_MT_SNTL\n",
      "SNOTEL:1010_OR_SNTL\n",
      "SNOTEL:1011_WA_SNTL\n",
      "SNOTEL:1012_WA_SNTL\n",
      "SNOTEL:1013_UT_SNTL\n",
      "SNOTEL:1014_CO_SNTL\n",
      "SNOTEL:1015_WY_SNTL\n",
      "SNOTEL:1016_ID_SNTL\n",
      "SNOTEL:1017_NM_SNTL\n",
      "SNOTEL:1018_OR_SNTL\n"
     ]
    },
    {
     "name": "stderr",
     "output_type": "stream",
     "text": [
      "<suds.sax.document.Document object at 0x000001D857C791C0>\n"
     ]
    },
    {
     "name": "stdout",
     "output_type": "stream",
     "text": [
      "Unable to fetch SWE data for site  SNOTEL:1018_OR_SNTL SWE value: -9999\n",
      "SNOTEL:1019_OR_SNTL\n"
     ]
    },
    {
     "name": "stderr",
     "output_type": "stream",
     "text": [
      "<suds.sax.document.Document object at 0x000001D857C79310>\n"
     ]
    },
    {
     "name": "stdout",
     "output_type": "stream",
     "text": [
      "Unable to fetch SWE data for site  SNOTEL:1019_OR_SNTL SWE value: -9999\n",
      "SNOTEL:1020_OR_SNTL\n"
     ]
    },
    {
     "name": "stderr",
     "output_type": "stream",
     "text": [
      "<suds.sax.document.Document object at 0x000001D857C75BB0>\n"
     ]
    },
    {
     "name": "stdout",
     "output_type": "stream",
     "text": [
      "Unable to fetch SWE data for site  SNOTEL:1020_OR_SNTL SWE value: -9999\n",
      "SNOTEL:1021_OR_SNTL\n"
     ]
    },
    {
     "name": "stderr",
     "output_type": "stream",
     "text": [
      "<suds.sax.document.Document object at 0x000001D857C79160>\n"
     ]
    },
    {
     "name": "stdout",
     "output_type": "stream",
     "text": [
      "Unable to fetch SWE data for site  SNOTEL:1021_OR_SNTL SWE value: -9999\n",
      "SNOTEL:1022_OR_SNTL\n"
     ]
    },
    {
     "name": "stderr",
     "output_type": "stream",
     "text": [
      "<suds.sax.document.Document object at 0x000001D857C912B0>\n"
     ]
    },
    {
     "name": "stdout",
     "output_type": "stream",
     "text": [
      "Unable to fetch SWE data for site  SNOTEL:1022_OR_SNTL SWE value: -9999\n",
      "SNOTEL:1023_OR_SNTL\n"
     ]
    },
    {
     "name": "stderr",
     "output_type": "stream",
     "text": [
      "<suds.sax.document.Document object at 0x000001D857C912B0>\n"
     ]
    },
    {
     "name": "stdout",
     "output_type": "stream",
     "text": [
      "Unable to fetch SWE data for site  SNOTEL:1023_OR_SNTL SWE value: -9999\n",
      "SNOTEL:1024_OR_SNTL\n"
     ]
    },
    {
     "name": "stderr",
     "output_type": "stream",
     "text": [
      "<suds.sax.document.Document object at 0x000001D857C72400>\n"
     ]
    },
    {
     "name": "stdout",
     "output_type": "stream",
     "text": [
      "Unable to fetch SWE data for site  SNOTEL:1024_OR_SNTL SWE value: -9999\n",
      "SNOTEL:1025_OR_SNTL\n"
     ]
    },
    {
     "name": "stderr",
     "output_type": "stream",
     "text": [
      "<suds.sax.document.Document object at 0x000001D857C75EB0>\n"
     ]
    },
    {
     "name": "stdout",
     "output_type": "stream",
     "text": [
      "Unable to fetch SWE data for site  SNOTEL:1025_OR_SNTL SWE value: -9999\n",
      "SNOTEL:1027_OR_SNTL\n"
     ]
    },
    {
     "name": "stderr",
     "output_type": "stream",
     "text": [
      "<suds.sax.document.Document object at 0x000001D857C8CDC0>\n"
     ]
    },
    {
     "name": "stdout",
     "output_type": "stream",
     "text": [
      "Unable to fetch SWE data for site  SNOTEL:1027_OR_SNTL SWE value: -9999\n",
      "SNOTEL:1028_OR_SNTL\n"
     ]
    },
    {
     "name": "stderr",
     "output_type": "stream",
     "text": [
      "<suds.sax.document.Document object at 0x000001D857C68EE0>\n"
     ]
    },
    {
     "name": "stdout",
     "output_type": "stream",
     "text": [
      "Unable to fetch SWE data for site  SNOTEL:1028_OR_SNTL SWE value: -9999\n",
      "SNOTEL:1029_OR_SNTL\n"
     ]
    },
    {
     "name": "stderr",
     "output_type": "stream",
     "text": [
      "<suds.sax.document.Document object at 0x000001D857C72F10>\n"
     ]
    },
    {
     "name": "stdout",
     "output_type": "stream",
     "text": [
      "Unable to fetch SWE data for site  SNOTEL:1029_OR_SNTL SWE value: -9999\n",
      "SNOTEL:1030_CO_SNTL\n",
      "SNOTEL:1031_CO_SNTL\n",
      "SNOTEL:1032_CO_SNTL\n",
      "SNOTEL:1033_CO_SNTL\n",
      "SNOTEL:1034_NM_SNTL\n",
      "SNOTEL:1038_ID_SNTL\n"
     ]
    },
    {
     "name": "stderr",
     "output_type": "stream",
     "text": [
      "<suds.sax.document.Document object at 0x000001D857C43A90>\n"
     ]
    },
    {
     "name": "stdout",
     "output_type": "stream",
     "text": [
      "Unable to fetch SWE data for site  SNOTEL:1038_ID_SNTL SWE value: -9999\n",
      "SNOTEL:1039_UT_SNTL\n",
      "SNOTEL:1040_CO_SNTL\n",
      "SNOTEL:1043_WA_SNTL\n",
      "SNOTEL:1044_OR_SNTL\n",
      "SNOTEL:1045_WY_SNTL\n",
      "SNOTEL:1046_WY_SNTL\n",
      "SNOTEL:1048_NM_SNTL\n",
      "SNOTEL:1050_CA_SNTL\n",
      "SNOTEL:1051_CA_SNTL\n",
      "SNOTEL:1052_CA_SNTL\n",
      "SNOTEL:1053_ID_SNTL\n",
      "SNOTEL:1054_UT_SNTL\n",
      "SNOTEL:1058_CO_SNTL\n",
      "SNOTEL:1061_CO_SNTL\n",
      "SNOTEL:1065_UT_SNTL\n",
      "SNOTEL:1066_UT_SNTL\n",
      "SNOTEL:1067_CA_SNTL\n",
      "SNOTEL:1068_WA_SNTL\n",
      "SNOTEL:1077_OR_SNTL\n",
      "SNOTEL:1079_OR_SNTL\n",
      "SNOTEL:1082_WY_SNTL\n",
      "SNOTEL:1084_OR_SNTL\n",
      "SNOTEL:1085_WA_SNTL\n",
      "SNOTEL:1098_UT_SNTL\n",
      "SNOTEL:1099_UT_SNTL\n",
      "SNOTEL:1100_CO_SNTL\n",
      "SNOTEL:1101_CO_SNTL\n",
      "SNOTEL:1104_WA_SNTL\n",
      "SNOTEL:1105_MT_SNTL\n",
      "SNOTEL:1107_WA_SNTL\n",
      "SNOTEL:1109_WA_SNTL\n",
      "SNOTEL:1110_NV_SNTL\n",
      "SNOTEL:1111_NV_SNTL\n",
      "SNOTEL:1113_UT_SNTL\n",
      "SNOTEL:1114_UT_SNTL\n",
      "SNOTEL:1115_UT_SNTL\n",
      "SNOTEL:1119_WY_SNTL\n",
      "SNOTEL:1120_CO_SNTL\n",
      "SNOTEL:1121_AZ_SNTL\n",
      "SNOTEL:1122_CO_SNTL\n",
      "SNOTEL:1123_CO_SNTL\n",
      "SNOTEL:1124_CO_SNTL\n",
      "SNOTEL:1127_AZ_SNTL\n",
      "SNOTEL:1128_CO_SNTL\n",
      "SNOTEL:1129_WA_SNTL\n",
      "SNOTEL:1131_WY_SNTL\n",
      "SNOTEL:1132_WY_SNTL\n",
      "SNOTEL:1133_WY_SNTL\n"
     ]
    },
    {
     "name": "stderr",
     "output_type": "stream",
     "text": [
      "<suds.sax.document.Document object at 0x000001D857C83100>\n"
     ]
    },
    {
     "name": "stdout",
     "output_type": "stream",
     "text": [
      "Unable to fetch SWE data for site  SNOTEL:1133_WY_SNTL SWE value: -9999\n",
      "SNOTEL:1134_WY_SNTL\n",
      "SNOTEL:1135_UT_SNTL\n",
      "SNOTEL:1136_NV_SNTL\n",
      "SNOTEL:1138_NM_SNTL\n",
      "SNOTEL:1139_AZ_SNTL\n",
      "SNOTEL:1140_AZ_SNTL\n",
      "SNOTEL:1141_CO_SNTL\n",
      "SNOTEL:1143_AZ_SNTL\n",
      "SNOTEL:1144_MT_SNTL\n",
      "SNOTEL:1146_UT_SNTL\n",
      "SNOTEL:1147_NV_SNTL\n",
      "SNOTEL:1148_UT_SNTL\n",
      "SNOTEL:1149_UT_SNTL\n",
      "SNOTEL:1150_NV_SNTL\n",
      "SNOTEL:1152_NV_SNTL\n",
      "SNOTEL:1154_UT_SNTL\n",
      "SNOTEL:1155_NV_SNTL\n",
      "SNOTEL:1156_UT_SNTL\n",
      "SNOTEL:1157_WA_SNTL\n"
     ]
    },
    {
     "name": "stderr",
     "output_type": "stream",
     "text": [
      "<suds.sax.document.Document object at 0x000001D857CA2F70>\n"
     ]
    },
    {
     "name": "stdout",
     "output_type": "stream",
     "text": [
      "Unable to fetch SWE data for site  SNOTEL:1157_WA_SNTL SWE value: -9999\n",
      "SNOTEL:1159_WA_SNTL\n",
      "SNOTEL:1160_CO_SNTL\n",
      "SNOTEL:1161_CO_SNTL\n"
     ]
    },
    {
     "name": "stderr",
     "output_type": "stream",
     "text": [
      "<suds.sax.document.Document object at 0x000001D857C831F0>\n"
     ]
    },
    {
     "name": "stdout",
     "output_type": "stream",
     "text": [
      "Unable to fetch SWE data for site  SNOTEL:1161_CO_SNTL SWE value: -9999\n",
      "SNOTEL:1162_UT_SNTL\n",
      "SNOTEL:1166_OR_SNTL\n",
      "SNOTEL:1167_OR_SNTL\n",
      "SNOTEL:1168_NM_SNTL\n",
      "SNOTEL:1169_NM_SNTL\n",
      "SNOTEL:1170_NM_SNTL\n",
      "SNOTEL:1171_WA_SNTL\n",
      "SNOTEL:1172_NM_SNTL\n",
      "SNOTEL:1184_UT_SNTL\n",
      "SNOTEL:1185_CO_SNTL\n",
      "SNOTEL:1186_CO_SNTL\n",
      "SNOTEL:1187_CO_SNTL\n",
      "SNOTEL:1192_UT_SNTL\n",
      "SNOTEL:1195_NV_SNTL\n",
      "SNOTEL:1196_WY_SNTL\n",
      "SNOTEL:1197_UT_SNTL\n",
      "SNOTEL:1202_NV_SNTL\n"
     ]
    },
    {
     "name": "stderr",
     "output_type": "stream",
     "text": [
      "<suds.sax.document.Document object at 0x000001D857C832B0>\n"
     ]
    },
    {
     "name": "stdout",
     "output_type": "stream",
     "text": [
      "Unable to fetch SWE data for site  SNOTEL:1202_NV_SNTL SWE value: -9999\n",
      "SNOTEL:1203_NV_SNTL\n"
     ]
    },
    {
     "name": "stderr",
     "output_type": "stream",
     "text": [
      "<suds.sax.document.Document object at 0x000001D857C8C280>\n"
     ]
    },
    {
     "name": "stdout",
     "output_type": "stream",
     "text": [
      "Unable to fetch SWE data for site  SNOTEL:1203_NV_SNTL SWE value: -9999\n",
      "SNOTEL:1205_NV_SNTL\n"
     ]
    },
    {
     "name": "stderr",
     "output_type": "stream",
     "text": [
      "<suds.sax.document.Document object at 0x000001D857CA2490>\n"
     ]
    },
    {
     "name": "stdout",
     "output_type": "stream",
     "text": [
      "Unable to fetch SWE data for site  SNOTEL:1205_NV_SNTL SWE value: -9999\n",
      "SNOTEL:1206_NV_SNTL\n"
     ]
    },
    {
     "name": "stderr",
     "output_type": "stream",
     "text": [
      "<suds.sax.document.Document object at 0x000001D857C517C0>\n"
     ]
    },
    {
     "name": "stdout",
     "output_type": "stream",
     "text": [
      "Unable to fetch SWE data for site  SNOTEL:1206_NV_SNTL SWE value: -9999\n",
      "SNOTEL:1209_NV_SNTL\n"
     ]
    },
    {
     "name": "stderr",
     "output_type": "stream",
     "text": [
      "<suds.sax.document.Document object at 0x000001D857C71520>\n"
     ]
    },
    {
     "name": "stdout",
     "output_type": "stream",
     "text": [
      "Unable to fetch SWE data for site  SNOTEL:1209_NV_SNTL SWE value: -9999\n",
      "SNOTEL:1213_NV_SNTL\n"
     ]
    },
    {
     "name": "stderr",
     "output_type": "stream",
     "text": [
      "<suds.sax.document.Document object at 0x000001D857C79580>\n"
     ]
    },
    {
     "name": "stdout",
     "output_type": "stream",
     "text": [
      "Unable to fetch SWE data for site  SNOTEL:1213_NV_SNTL SWE value: -9999\n",
      "SNOTEL:1214_UT_SNTL\n",
      "SNOTEL:1215_UT_SNTL\n",
      "SNOTEL:1216_UT_SNTL\n",
      "SNOTEL:1222_UT_SNTL\n",
      "SNOTEL:1223_UT_SNTL\n",
      "SNOTEL:1224_UT_SNTL\n",
      "SNOTEL:1225_UT_SNTL\n",
      "SNOTEL:1226_UT_SNTL\n",
      "SNOTEL:1227_UT_SNTL\n",
      "SNOTEL:1228_UT_SNTL\n",
      "SNOTEL:1231_WA_SNTL\n",
      "SNOTEL:1236_UT_SNTL\n",
      "SNOTEL:1242_NV_SNTL\n",
      "SNOTEL:1243_NV_SNTL\n",
      "SNOTEL:1244_NV_SNTL\n",
      "SNOTEL:1247_UT_SNTL\n",
      "SNOTEL:1248_UT_SNTL\n",
      "SNOTEL:1249_UT_SNTL\n",
      "SNOTEL:1251_CO_SNTL\n",
      "SNOTEL:1252_CO_SNTL\n",
      "SNOTEL:1254_NM_SNTL\n",
      "SNOTEL:1256_WA_SNTL\n",
      "SNOTEL:1257_WA_SNTL\n",
      "SNOTEL:1258_CA_SNTL\n",
      "SNOTEL:1259_WA_SNTL\n",
      "SNOTEL:1261_UT_SNTL\n",
      "SNOTEL:1262_NV_SNTL\n",
      "SNOTEL:1263_WA_SNTL\n",
      "SNOTEL:1269_UT_SNTL\n",
      "SNOTEL:1271_AZ_SNTL\n",
      "SNOTEL:1272_NV_SNTL\n",
      "SNOTEL:1276_ID_SNTL\n"
     ]
    },
    {
     "name": "stderr",
     "output_type": "stream",
     "text": [
      "<suds.sax.document.Document object at 0x000001D857C75BE0>\n"
     ]
    },
    {
     "name": "stdout",
     "output_type": "stream",
     "text": [
      "Unable to fetch SWE data for site  SNOTEL:1276_ID_SNTL SWE value: -9999\n",
      "SNOTEL:1277_CA_SNTL\n",
      "SNOTEL:1278_UT_SNTL\n",
      "SNOTEL:1280_UT_SNTL\n",
      "SNOTEL:1286_MT_SNTL\n",
      "SNOTEL:1287_MT_SNTL\n",
      "SNOTEL:2029_ID_SNTL\n",
      "SNOTEL:246_CA_SNTL\n"
     ]
    },
    {
     "name": "stderr",
     "output_type": "stream",
     "text": [
      "<suds.sax.document.Document object at 0x000001D857C8C730>\n"
     ]
    },
    {
     "name": "stdout",
     "output_type": "stream",
     "text": [
      "Unable to fetch SWE data for site  SNOTEL:246_CA_SNTL SWE value: -9999\n",
      "SNOTEL:247_CO_SNTL\n"
     ]
    },
    {
     "name": "stderr",
     "output_type": "stream",
     "text": [
      "<suds.sax.document.Document object at 0x000001D8578EAB20>\n"
     ]
    },
    {
     "name": "stdout",
     "output_type": "stream",
     "text": [
      "Unable to fetch SWE data for site  SNOTEL:247_CO_SNTL SWE value: -9999\n",
      "SNOTEL:248_CO_SNTL\n"
     ]
    },
    {
     "name": "stderr",
     "output_type": "stream",
     "text": [
      "<suds.sax.document.Document object at 0x000001D857CA25B0>\n"
     ]
    },
    {
     "name": "stdout",
     "output_type": "stream",
     "text": [
      "Unable to fetch SWE data for site  SNOTEL:248_CO_SNTL SWE value: -9999\n",
      "SNOTEL:249_CO_SNTL\n"
     ]
    },
    {
     "name": "stderr",
     "output_type": "stream",
     "text": [
      "<suds.sax.document.Document object at 0x000001D857C70310>\n"
     ]
    },
    {
     "name": "stdout",
     "output_type": "stream",
     "text": [
      "Unable to fetch SWE data for site  SNOTEL:249_CO_SNTL SWE value: -9999\n",
      "SNOTEL:250_CO_SNTL\n"
     ]
    },
    {
     "name": "stderr",
     "output_type": "stream",
     "text": [
      "<suds.sax.document.Document object at 0x000001D857C72B20>\n"
     ]
    },
    {
     "name": "stdout",
     "output_type": "stream",
     "text": [
      "Unable to fetch SWE data for site  SNOTEL:250_CO_SNTL SWE value: -9999\n",
      "SNOTEL:251_ID_SNTL\n"
     ]
    },
    {
     "name": "stderr",
     "output_type": "stream",
     "text": [
      "<suds.sax.document.Document object at 0x000001D857CA1BB0>\n"
     ]
    },
    {
     "name": "stdout",
     "output_type": "stream",
     "text": [
      "Unable to fetch SWE data for site  SNOTEL:251_ID_SNTL SWE value: -9999\n",
      "SNOTEL:252_MT_SNTL\n"
     ]
    },
    {
     "name": "stderr",
     "output_type": "stream",
     "text": [
      "<suds.sax.document.Document object at 0x000001D857CA1F40>\n"
     ]
    },
    {
     "name": "stdout",
     "output_type": "stream",
     "text": [
      "Unable to fetch SWE data for site  SNOTEL:252_MT_SNTL SWE value: -9999\n",
      "SNOTEL:253_MT_SNTL\n"
     ]
    },
    {
     "name": "stderr",
     "output_type": "stream",
     "text": [
      "<suds.sax.document.Document object at 0x000001D857C43880>\n"
     ]
    },
    {
     "name": "stdout",
     "output_type": "stream",
     "text": [
      "Unable to fetch SWE data for site  SNOTEL:253_MT_SNTL SWE value: -9999\n",
      "SNOTEL:254_MT_SNTL\n"
     ]
    },
    {
     "name": "stderr",
     "output_type": "stream",
     "text": [
      "<suds.sax.document.Document object at 0x000001D857C43430>\n"
     ]
    },
    {
     "name": "stdout",
     "output_type": "stream",
     "text": [
      "Unable to fetch SWE data for site  SNOTEL:254_MT_SNTL SWE value: -9999\n",
      "SNOTEL:255_MT_SNTL\n"
     ]
    },
    {
     "name": "stderr",
     "output_type": "stream",
     "text": [
      "<suds.sax.document.Document object at 0x000001D857C73E50>\n"
     ]
    },
    {
     "name": "stdout",
     "output_type": "stream",
     "text": [
      "Unable to fetch SWE data for site  SNOTEL:255_MT_SNTL SWE value: -9999\n",
      "SNOTEL:256_MT_SNTL\n"
     ]
    },
    {
     "name": "stderr",
     "output_type": "stream",
     "text": [
      "<suds.sax.document.Document object at 0x000001D857C73490>\n"
     ]
    },
    {
     "name": "stdout",
     "output_type": "stream",
     "text": [
      "Unable to fetch SWE data for site  SNOTEL:256_MT_SNTL SWE value: -9999\n",
      "SNOTEL:257_NV_SNTL\n"
     ]
    },
    {
     "name": "stderr",
     "output_type": "stream",
     "text": [
      "<suds.sax.document.Document object at 0x000001D857CA2F40>\n"
     ]
    },
    {
     "name": "stdout",
     "output_type": "stream",
     "text": [
      "Unable to fetch SWE data for site  SNOTEL:257_NV_SNTL SWE value: -9999\n",
      "SNOTEL:258_NV_SNTL\n"
     ]
    },
    {
     "name": "stderr",
     "output_type": "stream",
     "text": [
      "<suds.sax.document.Document object at 0x000001D8578EAA60>\n"
     ]
    },
    {
     "name": "stdout",
     "output_type": "stream",
     "text": [
      "Unable to fetch SWE data for site  SNOTEL:258_NV_SNTL SWE value: -9999\n",
      "SNOTEL:259_OR_SNTL\n"
     ]
    },
    {
     "name": "stderr",
     "output_type": "stream",
     "text": [
      "<suds.sax.document.Document object at 0x000001D857C51AC0>\n"
     ]
    },
    {
     "name": "stdout",
     "output_type": "stream",
     "text": [
      "Unable to fetch SWE data for site  SNOTEL:259_OR_SNTL SWE value: -9999\n",
      "SNOTEL:261_UT_SNTL\n"
     ]
    },
    {
     "name": "stderr",
     "output_type": "stream",
     "text": [
      "<suds.sax.document.Document object at 0x000001D857C517C0>\n"
     ]
    },
    {
     "name": "stdout",
     "output_type": "stream",
     "text": [
      "Unable to fetch SWE data for site  SNOTEL:261_UT_SNTL SWE value: -9999\n",
      "SNOTEL:262_WA_SNTL\n"
     ]
    },
    {
     "name": "stderr",
     "output_type": "stream",
     "text": [
      "<suds.sax.document.Document object at 0x000001D857C43220>\n"
     ]
    },
    {
     "name": "stdout",
     "output_type": "stream",
     "text": [
      "Unable to fetch SWE data for site  SNOTEL:262_WA_SNTL SWE value: -9999\n",
      "SNOTEL:263_WA_SNTL\n"
     ]
    },
    {
     "name": "stderr",
     "output_type": "stream",
     "text": [
      "<suds.sax.document.Document object at 0x000001D857C79FA0>\n"
     ]
    },
    {
     "name": "stdout",
     "output_type": "stream",
     "text": [
      "Unable to fetch SWE data for site  SNOTEL:263_WA_SNTL SWE value: -9999\n",
      "SNOTEL:264_WA_SNTL\n"
     ]
    },
    {
     "name": "stderr",
     "output_type": "stream",
     "text": [
      "<suds.sax.document.Document object at 0x000001D857C73E80>\n"
     ]
    },
    {
     "name": "stdout",
     "output_type": "stream",
     "text": [
      "Unable to fetch SWE data for site  SNOTEL:264_WA_SNTL SWE value: -9999\n",
      "SNOTEL:266_WY_SNTL\n"
     ]
    },
    {
     "name": "stderr",
     "output_type": "stream",
     "text": [
      "<suds.sax.document.Document object at 0x000001D857CA1490>\n"
     ]
    },
    {
     "name": "stdout",
     "output_type": "stream",
     "text": [
      "Unable to fetch SWE data for site  SNOTEL:266_WY_SNTL SWE value: -9999\n",
      "SNOTEL:267_WY_SNTL\n"
     ]
    },
    {
     "name": "stderr",
     "output_type": "stream",
     "text": [
      "<suds.sax.document.Document object at 0x000001D857C79670>\n"
     ]
    },
    {
     "name": "stdout",
     "output_type": "stream",
     "text": [
      "Unable to fetch SWE data for site  SNOTEL:267_WY_SNTL SWE value: -9999\n",
      "SNOTEL:268_WY_SNTL\n"
     ]
    },
    {
     "name": "stderr",
     "output_type": "stream",
     "text": [
      "<suds.sax.document.Document object at 0x000001D857C79C10>\n"
     ]
    },
    {
     "name": "stdout",
     "output_type": "stream",
     "text": [
      "Unable to fetch SWE data for site  SNOTEL:268_WY_SNTL SWE value: -9999\n",
      "SNOTEL:269_WY_SNTL\n"
     ]
    },
    {
     "name": "stderr",
     "output_type": "stream",
     "text": [
      "<suds.sax.document.Document object at 0x000001D857C8CFA0>\n"
     ]
    },
    {
     "name": "stdout",
     "output_type": "stream",
     "text": [
      "Unable to fetch SWE data for site  SNOTEL:269_WY_SNTL SWE value: -9999\n",
      "SNOTEL:301_CA_SNTL\n",
      "SNOTEL:302_OR_SNTL\n",
      "SNOTEL:303_CO_SNTL\n",
      "SNOTEL:304_OR_SNTL\n",
      "SNOTEL:305_CO_SNTL\n"
     ]
    },
    {
     "name": "stderr",
     "output_type": "stream",
     "text": [
      "<suds.sax.document.Document object at 0x000001D857C75F70>\n"
     ]
    },
    {
     "name": "stdout",
     "output_type": "stream",
     "text": [
      "Unable to fetch SWE data for site  SNOTEL:305_CO_SNTL SWE value: -9999\n",
      "SNOTEL:306_ID_SNTL\n",
      "SNOTEL:308_AZ_SNTL\n",
      "SNOTEL:311_MT_SNTL\n",
      "SNOTEL:312_ID_SNTL\n",
      "SNOTEL:313_MT_SNTL\n",
      "SNOTEL:316_NM_SNTL\n",
      "SNOTEL:317_WY_SNTL\n",
      "SNOTEL:319_ID_SNTL\n",
      "SNOTEL:320_ID_SNTL\n",
      "SNOTEL:321_NV_SNTL\n",
      "SNOTEL:322_CO_SNTL\n",
      "SNOTEL:324_ID_SNTL\n",
      "SNOTEL:325_WY_SNTL\n",
      "SNOTEL:326_WY_SNTL\n",
      "SNOTEL:327_CO_SNTL\n",
      "SNOTEL:328_MT_SNTL\n",
      "SNOTEL:329_UT_SNTL\n",
      "SNOTEL:330_UT_SNTL\n",
      "SNOTEL:331_OR_SNTL\n",
      "SNOTEL:332_UT_SNTL\n",
      "SNOTEL:333_UT_SNTL\n",
      "SNOTEL:334_NV_SNTL\n",
      "SNOTEL:335_CO_SNTL\n",
      "SNOTEL:336_NV_SNTL\n",
      "SNOTEL:337_NV_SNTL\n",
      "SNOTEL:338_ID_SNTL\n",
      "SNOTEL:339_UT_SNTL\n",
      "SNOTEL:340_NV_SNTL\n",
      "SNOTEL:341_OR_SNTL\n",
      "SNOTEL:342_WY_SNTL\n",
      "SNOTEL:344_OR_SNTL\n",
      "SNOTEL:345_CO_SNTL\n",
      "SNOTEL:346_MT_SNTL\n",
      "SNOTEL:347_MT_SNTL\n",
      "SNOTEL:348_UT_SNTL\n",
      "SNOTEL:349_MT_SNTL\n",
      "SNOTEL:350_WY_SNTL\n",
      "SNOTEL:354_SD_SNTL\n",
      "SNOTEL:355_MT_SNTL\n",
      "SNOTEL:356_CA_SNTL\n",
      "SNOTEL:358_WY_SNTL\n",
      "SNOTEL:360_MT_SNTL\n",
      "SNOTEL:363_MT_SNTL\n",
      "SNOTEL:364_UT_SNTL\n",
      "SNOTEL:365_MT_SNTL\n",
      "SNOTEL:366_UT_SNTL\n",
      "SNOTEL:368_UT_SNTL\n",
      "SNOTEL:370_ID_SNTL\n",
      "SNOTEL:372_AZ_SNTL\n"
     ]
    },
    {
     "name": "stderr",
     "output_type": "stream",
     "text": [
      "<suds.sax.document.Document object at 0x000001D857C79430>\n"
     ]
    },
    {
     "name": "stdout",
     "output_type": "stream",
     "text": [
      "Unable to fetch SWE data for site  SNOTEL:372_AZ_SNTL SWE value: -9999\n",
      "SNOTEL:373_NV_SNTL\n",
      "SNOTEL:375_WA_SNTL\n",
      "SNOTEL:376_WA_SNTL\n",
      "SNOTEL:377_WY_SNTL\n",
      "SNOTEL:379_WY_SNTL\n",
      "SNOTEL:380_CO_SNTL\n",
      "SNOTEL:381_MT_SNTL\n",
      "SNOTEL:385_MT_SNTL\n",
      "SNOTEL:386_CO_SNTL\n",
      "SNOTEL:387_CO_SNTL\n",
      "SNOTEL:388_OR_SNTL\n",
      "SNOTEL:389_WY_SNTL\n",
      "SNOTEL:390_UT_SNTL\n",
      "SNOTEL:392_UT_SNTL\n",
      "SNOTEL:393_UT_SNTL\n",
      "SNOTEL:396_UT_SNTL\n",
      "SNOTEL:397_WY_SNTL\n"
     ]
    },
    {
     "name": "stderr",
     "output_type": "stream",
     "text": [
      "<suds.sax.document.Document object at 0x000001D857C8C5E0>\n"
     ]
    },
    {
     "name": "stdout",
     "output_type": "stream",
     "text": [
      "Unable to fetch SWE data for site  SNOTEL:397_WY_SNTL SWE value: -9999\n",
      "SNOTEL:398_OR_SNTL\n",
      "SNOTEL:399_UT_SNTL\n",
      "SNOTEL:401_OR_SNTL\n",
      "SNOTEL:402_WY_SNTL\n",
      "SNOTEL:403_MT_SNTL\n",
      "SNOTEL:406_OR_SNTL\n",
      "SNOTEL:407_MT_SNTL\n",
      "SNOTEL:409_CO_SNTL\n",
      "SNOTEL:410_MT_SNTL\n",
      "SNOTEL:411_ID_SNTL\n",
      "SNOTEL:412_CO_SNTL\n",
      "SNOTEL:413_MT_SNTL\n",
      "SNOTEL:414_MT_SNTL\n",
      "SNOTEL:415_CO_SNTL\n",
      "SNOTEL:416_AZ_SNTL\n",
      "SNOTEL:417_NV_SNTL\n",
      "SNOTEL:418_WA_SNTL\n",
      "SNOTEL:419_WY_SNTL\n",
      "SNOTEL:420_WA_SNTL\n",
      "SNOTEL:421_WY_SNTL\n"
     ]
    },
    {
     "name": "stderr",
     "output_type": "stream",
     "text": [
      "<suds.sax.document.Document object at 0x000001D857C51130>\n"
     ]
    },
    {
     "name": "stdout",
     "output_type": "stream",
     "text": [
      "Unable to fetch SWE data for site  SNOTEL:421_WY_SNTL SWE value: -9999\n",
      "SNOTEL:422_OR_SNTL\n",
      "SNOTEL:423_ID_SNTL\n",
      "SNOTEL:424_ID_SNTL\n",
      "SNOTEL:426_CO_SNTL\n",
      "SNOTEL:428_CA_SNTL\n",
      "SNOTEL:430_CO_SNTL\n",
      "SNOTEL:431_CO_SNTL\n",
      "SNOTEL:432_UT_SNTL\n",
      "SNOTEL:433_MT_SNTL\n",
      "SNOTEL:434_OR_SNTL\n",
      "SNOTEL:436_MT_SNTL\n",
      "SNOTEL:437_MT_SNTL\n",
      "SNOTEL:438_CO_SNTL\n",
      "SNOTEL:439_ID_SNTL\n",
      "SNOTEL:441_UT_SNTL\n"
     ]
    },
    {
     "name": "stderr",
     "output_type": "stream",
     "text": [
      "<suds.sax.document.Document object at 0x000001D857C43A30>\n"
     ]
    },
    {
     "name": "stdout",
     "output_type": "stream",
     "text": [
      "Unable to fetch SWE data for site  SNOTEL:441_UT_SNTL SWE value: -9999\n",
      "SNOTEL:444_UT_SNTL\n",
      "SNOTEL:448_MT_SNTL\n",
      "SNOTEL:449_WY_SNTL\n",
      "SNOTEL:450_ID_SNTL\n",
      "SNOTEL:451_WY_SNTL\n",
      "SNOTEL:452_UT_SNTL\n",
      "SNOTEL:455_UT_SNTL\n",
      "SNOTEL:457_CO_SNTL\n",
      "SNOTEL:458_MT_SNTL\n",
      "SNOTEL:460_WY_SNTL\n",
      "SNOTEL:462_CA_SNTL\n",
      "SNOTEL:463_CA_SNTL\n",
      "SNOTEL:464_OR_SNTL\n",
      "SNOTEL:465_CO_SNTL\n",
      "SNOTEL:466_ID_SNTL\n",
      "SNOTEL:467_CO_SNTL\n",
      "SNOTEL:470_OR_SNTL\n",
      "SNOTEL:472_WY_SNTL\n",
      "SNOTEL:474_UT_SNTL\n",
      "SNOTEL:475_UT_SNTL\n",
      "SNOTEL:476_NV_SNTL\n",
      "SNOTEL:477_OR_SNTL\n",
      "SNOTEL:478_WA_SNTL\n",
      "SNOTEL:480_MT_SNTL\n",
      "SNOTEL:481_UT_SNTL\n",
      "SNOTEL:482_MT_SNTL\n",
      "SNOTEL:483_OR_SNTL\n",
      "SNOTEL:484_ID_SNTL\n",
      "SNOTEL:485_CO_SNTL\n",
      "SNOTEL:486_NM_SNTL\n",
      "SNOTEL:487_MT_SNTL\n",
      "SNOTEL:488_AZ_SNTL\n",
      "SNOTEL:489_ID_SNTL\n",
      "SNOTEL:490_ID_SNTL\n",
      "SNOTEL:491_NM_SNTL\n",
      "SNOTEL:493_ID_SNTL\n",
      "SNOTEL:494_OR_SNTL\n",
      "SNOTEL:495_UT_SNTL\n",
      "SNOTEL:497_WY_SNTL\n",
      "SNOTEL:498_NV_SNTL\n",
      "SNOTEL:499_WY_SNTL\n",
      "SNOTEL:500_MT_SNTL\n",
      "SNOTEL:503_NV_SNTL\n",
      "SNOTEL:505_CO_SNTL\n",
      "SNOTEL:507_WA_SNTL\n",
      "SNOTEL:508_CA_SNTL\n",
      "SNOTEL:509_WY_SNTL\n",
      "SNOTEL:510_MT_SNTL\n",
      "SNOTEL:512_WY_SNTL\n",
      "SNOTEL:514_UT_SNTL\n",
      "SNOTEL:519_AZ_SNTL\n",
      "SNOTEL:520_ID_SNTL\n",
      "SNOTEL:521_UT_SNTL\n",
      "SNOTEL:522_UT_SNTL\n",
      "SNOTEL:523_OR_SNTL\n",
      "SNOTEL:524_ID_SNTL\n",
      "SNOTEL:525_WY_SNTL\n",
      "SNOTEL:526_OR_SNTL\n",
      "SNOTEL:528_UT_SNTL\n",
      "SNOTEL:529_OR_SNTL\n",
      "SNOTEL:530_MT_SNTL\n",
      "SNOTEL:531_CO_SNTL\n",
      "SNOTEL:532_NM_SNTL\n",
      "SNOTEL:533_UT_SNTL\n",
      "SNOTEL:535_ID_SNTL\n",
      "SNOTEL:540_CA_SNTL\n",
      "SNOTEL:541_CA_SNTL\n",
      "SNOTEL:542_CO_SNTL\n",
      "SNOTEL:543_UT_SNTL\n",
      "SNOTEL:548_NV_SNTL\n",
      "SNOTEL:549_NV_SNTL\n"
     ]
    },
    {
     "name": "stderr",
     "output_type": "stream",
     "text": [
      "<suds.sax.document.Document object at 0x000001D857C753D0>\n"
     ]
    },
    {
     "name": "stdout",
     "output_type": "stream",
     "text": [
      "Unable to fetch SWE data for site  SNOTEL:549_NV_SNTL SWE value: -9999\n",
      "SNOTEL:550_ID_SNTL\n",
      "SNOTEL:552_OR_SNTL\n",
      "SNOTEL:553_WA_SNTL\n",
      "SNOTEL:554_WY_SNTL\n",
      "SNOTEL:555_WY_SNTL\n",
      "SNOTEL:556_CO_SNTL\n",
      "SNOTEL:558_OR_SNTL\n",
      "SNOTEL:559_UT_SNTL\n",
      "SNOTEL:560_WY_SNTL\n",
      "SNOTEL:562_MT_SNTL\n",
      "SNOTEL:563_OR_SNTL\n",
      "SNOTEL:564_CO_SNTL\n",
      "SNOTEL:565_CO_SNTL\n",
      "SNOTEL:566_UT_SNTL\n",
      "SNOTEL:568_MT_SNTL\n",
      "SNOTEL:569_NV_SNTL\n",
      "SNOTEL:570_NV_SNTL\n",
      "SNOTEL:571_WY_SNTL\n",
      "SNOTEL:572_UT_SNTL\n",
      "SNOTEL:575_CA_SNTL\n",
      "SNOTEL:576_MT_SNTL\n",
      "SNOTEL:577_WY_SNTL\n",
      "SNOTEL:579_UT_SNTL\n",
      "SNOTEL:580_CO_SNTL\n",
      "SNOTEL:582_UT_SNTL\n",
      "SNOTEL:583_UT_SNTL\n",
      "SNOTEL:585_WY_SNTL\n",
      "SNOTEL:587_CA_SNTL\n",
      "SNOTEL:588_ID_SNTL\n",
      "SNOTEL:589_CO_SNTL\n",
      "SNOTEL:590_MT_SNTL\n",
      "SNOTEL:591_WA_SNTL\n",
      "SNOTEL:592_UT_SNTL\n",
      "SNOTEL:593_UT_SNTL\n",
      "SNOTEL:596_UT_SNTL\n",
      "SNOTEL:597_WY_SNTL\n",
      "SNOTEL:598_WY_SNTL\n"
     ]
    },
    {
     "name": "stderr",
     "output_type": "stream",
     "text": [
      "<suds.sax.document.Document object at 0x000001D857CA10D0>\n"
     ]
    },
    {
     "name": "stdout",
     "output_type": "stream",
     "text": [
      "Unable to fetch SWE data for site  SNOTEL:598_WY_SNTL SWE value: -9999\n",
      "SNOTEL:600_ID_SNTL\n",
      "SNOTEL:603_MT_SNTL\n",
      "SNOTEL:604_MT_SNTL\n",
      "SNOTEL:605_OR_SNTL\n",
      "SNOTEL:606_WA_SNTL\n",
      "SNOTEL:607_CO_SNTL\n",
      "SNOTEL:610_ID_SNTL\n",
      "SNOTEL:611_SD_SNTL\n"
     ]
    },
    {
     "name": "stderr",
     "output_type": "stream",
     "text": [
      "<suds.sax.document.Document object at 0x000001D857C83A00>\n"
     ]
    },
    {
     "name": "stdout",
     "output_type": "stream",
     "text": [
      "Unable to fetch SWE data for site  SNOTEL:611_SD_SNTL SWE value: -9999\n",
      "SNOTEL:612_UT_SNTL\n",
      "SNOTEL:613_MT_SNTL\n",
      "SNOTEL:614_OR_SNTL\n",
      "SNOTEL:615_NV_SNTL\n",
      "SNOTEL:616_WY_SNTL\n",
      "SNOTEL:617_AZ_SNTL\n",
      "SNOTEL:619_OR_SNTL\n",
      "SNOTEL:620_ID_SNTL\n",
      "SNOTEL:621_UT_SNTL\n",
      "SNOTEL:622_CO_SNTL\n",
      "SNOTEL:623_ID_SNTL\n",
      "SNOTEL:625_WY_SNTL\n",
      "SNOTEL:626_UT_SNTL\n",
      "SNOTEL:627_ID_SNTL\n",
      "SNOTEL:628_UT_SNTL\n",
      "SNOTEL:629_CO_SNTL\n",
      "SNOTEL:630_WA_SNTL\n"
     ]
    },
    {
     "name": "stderr",
     "output_type": "stream",
     "text": [
      "<suds.sax.document.Document object at 0x000001D857C43C70>\n"
     ]
    },
    {
     "name": "stdout",
     "output_type": "stream",
     "text": [
      "Unable to fetch SWE data for site  SNOTEL:630_WA_SNTL SWE value: -9999\n",
      "SNOTEL:633_CA_SNTL\n",
      "SNOTEL:637_ID_SNTL\n",
      "SNOTEL:640_AZ_SNTL\n",
      "SNOTEL:642_WA_SNTL\n",
      "SNOTEL:643_UT_SNTL\n",
      "SNOTEL:644_WA_SNTL\n",
      "SNOTEL:645_ID_SNTL\n",
      "SNOTEL:646_MT_SNTL\n",
      "SNOTEL:647_OR_SNTL\n",
      "SNOTEL:648_WA_SNTL\n",
      "SNOTEL:649_MT_SNTL\n",
      "SNOTEL:650_ID_SNTL\n",
      "SNOTEL:651_OR_SNTL\n",
      "SNOTEL:652_NV_SNTL\n",
      "SNOTEL:654_ID_SNTL\n",
      "SNOTEL:655_OR_SNTL\n",
      "SNOTEL:657_MT_SNTL\n",
      "SNOTEL:658_CO_SNTL\n",
      "SNOTEL:659_MT_SNTL\n"
     ]
    },
    {
     "name": "stderr",
     "output_type": "stream",
     "text": [
      "<suds.sax.document.Document object at 0x000001D857CA16D0>\n"
     ]
    },
    {
     "name": "stdout",
     "output_type": "stream",
     "text": [
      "Unable to fetch SWE data for site  SNOTEL:659_MT_SNTL SWE value: -9999\n",
      "SNOTEL:661_WY_SNTL\n",
      "SNOTEL:662_MT_SNTL\n",
      "SNOTEL:663_CO_SNTL\n",
      "SNOTEL:664_MT_SNTL\n",
      "SNOTEL:665_NM_SNTL\n",
      "SNOTEL:666_OR_SNTL\n",
      "SNOTEL:667_MT_SNTL\n",
      "SNOTEL:669_CO_SNTL\n",
      "SNOTEL:670_MT_SNTL\n",
      "SNOTEL:671_OR_SNTL\n",
      "SNOTEL:672_WA_SNTL\n",
      "SNOTEL:673_WY_SNTL\n",
      "SNOTEL:676_WY_SNTL\n",
      "SNOTEL:677_ID_SNTL\n",
      "SNOTEL:678_NM_SNTL\n"
     ]
    },
    {
     "name": "stderr",
     "output_type": "stream",
     "text": [
      "<suds.sax.document.Document object at 0x000001D857C83910>\n"
     ]
    },
    {
     "name": "stdout",
     "output_type": "stream",
     "text": [
      "Unable to fetch SWE data for site  SNOTEL:678_NM_SNTL SWE value: -9999\n",
      "SNOTEL:680_CO_SNTL\n",
      "SNOTEL:681_WA_SNTL\n",
      "SNOTEL:682_CO_SNTL\n",
      "SNOTEL:683_WY_SNTL\n",
      "SNOTEL:684_UT_SNTL\n",
      "SNOTEL:685_CO_SNTL\n"
     ]
    },
    {
     "name": "stderr",
     "output_type": "stream",
     "text": [
      "<suds.sax.document.Document object at 0x000001D857CA2A90>\n"
     ]
    },
    {
     "name": "stdout",
     "output_type": "stream",
     "text": [
      "Unable to fetch SWE data for site  SNOTEL:685_CO_SNTL SWE value: -9999\n",
      "SNOTEL:686_UT_SNTL\n",
      "SNOTEL:689_WY_SNTL\n",
      "SNOTEL:690_MT_SNTL\n",
      "SNOTEL:691_UT_SNTL\n",
      "SNOTEL:693_MT_SNTL\n",
      "SNOTEL:694_UT_SNTL\n",
      "SNOTEL:696_MT_SNTL\n",
      "SNOTEL:698_NV_SNTL\n",
      "SNOTEL:699_WA_SNTL\n",
      "SNOTEL:700_MT_SNTL\n",
      "SNOTEL:702_WA_SNTL\n",
      "SNOTEL:704_ID_SNTL\n",
      "SNOTEL:706_OR_SNTL\n",
      "SNOTEL:708_NM_SNTL\n",
      "SNOTEL:709_CO_SNTL\n",
      "SNOTEL:710_OR_SNTL\n",
      "SNOTEL:712_OR_SNTL\n",
      "SNOTEL:713_CO_SNTL\n",
      "SNOTEL:714_UT_SNTL\n",
      "SNOTEL:715_NM_SNTL\n",
      "SNOTEL:717_CO_SNTL\n",
      "SNOTEL:718_CO_SNTL\n",
      "SNOTEL:720_UT_SNTL\n",
      "SNOTEL:723_UT_SNTL\n",
      "SNOTEL:724_CA_SNTL\n",
      "SNOTEL:726_OR_SNTL\n",
      "SNOTEL:727_MT_SNTL\n",
      "SNOTEL:728_WA_SNTL\n",
      "SNOTEL:729_OR_SNTL\n",
      "SNOTEL:730_WY_SNTL\n",
      "SNOTEL:731_WY_SNTL\n",
      "SNOTEL:732_WY_SNTL\n",
      "SNOTEL:733_OR_SNTL\n",
      "SNOTEL:734_WA_SNTL\n",
      "SNOTEL:735_ID_SNTL\n",
      "SNOTEL:736_OR_SNTL\n",
      "SNOTEL:738_ID_SNTL\n",
      "SNOTEL:739_CO_SNTL\n",
      "SNOTEL:741_ID_SNTL\n",
      "SNOTEL:742_UT_SNTL\n",
      "SNOTEL:743_OR_SNTL\n",
      "SNOTEL:744_NM_SNTL\n",
      "SNOTEL:745_OR_SNTL\n",
      "SNOTEL:746_NV_SNTL\n",
      "SNOTEL:747_ID_SNTL\n",
      "SNOTEL:748_WA_SNTL\n",
      "SNOTEL:749_ID_SNTL\n",
      "SNOTEL:751_WY_SNTL\n",
      "SNOTEL:752_ID_SNTL\n",
      "SNOTEL:754_MT_SNTL\n",
      "SNOTEL:755_NM_SNTL\n",
      "SNOTEL:756_OR_SNTL\n",
      "SNOTEL:757_NM_SNTL\n",
      "SNOTEL:758_MT_SNTL\n"
     ]
    },
    {
     "name": "stderr",
     "output_type": "stream",
     "text": [
      "<suds.sax.document.Document object at 0x000001D857C8CF40>\n"
     ]
    },
    {
     "name": "stdout",
     "output_type": "stream",
     "text": [
      "Unable to fetch SWE data for site  SNOTEL:758_MT_SNTL SWE value: -9999\n",
      "SNOTEL:761_ID_SNTL\n",
      "SNOTEL:762_CO_SNTL\n",
      "SNOTEL:763_UT_SNTL\n",
      "SNOTEL:764_WY_SNTL\n",
      "SNOTEL:765_WY_SNTL\n",
      "SNOTEL:767_OR_SNTL\n",
      "SNOTEL:770_ID_SNTL\n",
      "SNOTEL:771_CA_SNTL\n",
      "SNOTEL:773_CO_SNTL\n",
      "SNOTEL:777_WA_SNTL\n",
      "SNOTEL:778_CA_SNTL\n",
      "SNOTEL:779_WY_SNTL\n",
      "SNOTEL:780_CO_SNTL\n",
      "SNOTEL:781_MT_SNTL\n",
      "SNOTEL:782_ID_SNTL\n",
      "SNOTEL:784_CA_SNTL\n",
      "SNOTEL:786_WY_SNTL\n",
      "SNOTEL:787_MT_SNTL\n",
      "SNOTEL:790_UT_SNTL\n",
      "SNOTEL:791_WA_SNTL\n",
      "SNOTEL:792_ID_SNTL\n",
      "SNOTEL:793_CO_SNTL\n",
      "SNOTEL:794_OR_SNTL\n",
      "SNOTEL:795_UT_SNTL\n",
      "SNOTEL:797_CO_SNTL\n",
      "SNOTEL:798_WY_SNTL\n",
      "SNOTEL:799_AZ_SNTL\n"
     ]
    },
    {
     "name": "stderr",
     "output_type": "stream",
     "text": [
      "<suds.sax.document.Document object at 0x000001D857C430A0>\n"
     ]
    },
    {
     "name": "stdout",
     "output_type": "stream",
     "text": [
      "Unable to fetch SWE data for site  SNOTEL:799_AZ_SNTL SWE value: -9999\n",
      "SNOTEL:8011_WY_SNTL\n"
     ]
    },
    {
     "name": "stderr",
     "output_type": "stream",
     "text": [
      "<suds.sax.document.Document object at 0x000001D857CA2AF0>\n"
     ]
    },
    {
     "name": "stdout",
     "output_type": "stream",
     "text": [
      "Unable to fetch SWE data for site  SNOTEL:8011_WY_SNTL SWE value: -9999\n",
      "SNOTEL:801_OR_SNTL\n",
      "SNOTEL:803_ID_SNTL\n",
      "SNOTEL:804_WA_SNTL\n",
      "SNOTEL:805_ID_SNTL\n",
      "SNOTEL:806_WY_SNTL\n",
      "SNOTEL:8082_UT_SNTL\n"
     ]
    },
    {
     "name": "stderr",
     "output_type": "stream",
     "text": [
      "<suds.sax.document.Document object at 0x000001D857CA2130>\n"
     ]
    },
    {
     "name": "stdout",
     "output_type": "stream",
     "text": [
      "Unable to fetch SWE data for site  SNOTEL:8082_UT_SNTL SWE value: -9999\n",
      "SNOTEL:809_CA_SNTL\n",
      "SNOTEL:810_OR_SNTL\n",
      "SNOTEL:811_NV_SNTL\n",
      "SNOTEL:812_OR_SNTL\n",
      "SNOTEL:814_UT_SNTL\n",
      "SNOTEL:815_OR_SNTL\n",
      "SNOTEL:816_WY_SNTL\n",
      "SNOTEL:817_WA_SNTL\n",
      "SNOTEL:818_WY_SNTL\n",
      "SNOTEL:819_WY_SNTL\n",
      "SNOTEL:820_UT_SNTL\n",
      "SNOTEL:822_WY_SNTL\n",
      "SNOTEL:823_UT_SNTL\n",
      "SNOTEL:824_WA_SNTL\n",
      "SNOTEL:825_CO_SNTL\n",
      "SNOTEL:826_WY_SNTL\n",
      "SNOTEL:827_CO_SNTL\n",
      "SNOTEL:830_ID_SNTL\n",
      "SNOTEL:831_WY_SNTL\n",
      "SNOTEL:832_WA_SNTL\n",
      "SNOTEL:833_UT_SNTL\n",
      "SNOTEL:834_CA_SNTL\n",
      "SNOTEL:835_MT_SNTL\n",
      "SNOTEL:837_WY_SNTL\n",
      "SNOTEL:838_CO_SNTL\n",
      "SNOTEL:839_CO_SNTL\n",
      "SNOTEL:840_CO_SNTL\n",
      "SNOTEL:841_WA_SNTL\n",
      "SNOTEL:842_CO_SNTL\n",
      "SNOTEL:844_UT_SNTL\n",
      "SNOTEL:845_ID_SNTL\n",
      "SNOTEL:847_MT_SNTL\n",
      "SNOTEL:848_CA_SNTL\n",
      "SNOTEL:849_NV_SNTL\n",
      "SNOTEL:850_MT_SNTL\n",
      "SNOTEL:851_WY_SNTL\n"
     ]
    },
    {
     "name": "stderr",
     "output_type": "stream",
     "text": [
      "<suds.sax.document.Document object at 0x000001D857C75DF0>\n"
     ]
    },
    {
     "name": "stdout",
     "output_type": "stream",
     "text": [
      "Unable to fetch SWE data for site  SNOTEL:851_WY_SNTL SWE value: -9999\n",
      "SNOTEL:852_WY_SNTL\n",
      "SNOTEL:854_NM_SNTL\n",
      "SNOTEL:855_ID_SNTL\n",
      "SNOTEL:857_CO_SNTL\n",
      "SNOTEL:858_MT_SNTL\n",
      "SNOTEL:859_WY_SNTL\n",
      "SNOTEL:861_AZ_SNTL\n",
      "SNOTEL:862_MT_SNTL\n",
      "SNOTEL:863_WA_SNTL\n",
      "SNOTEL:864_UT_SNTL\n",
      "SNOTEL:865_UT_SNTL\n",
      "SNOTEL:868_WY_SNTL\n",
      "SNOTEL:869_CO_SNTL\n",
      "SNOTEL:871_ID_SNTL\n",
      "SNOTEL:872_WY_SNTL\n",
      "SNOTEL:873_OR_SNTL\n",
      "SNOTEL:874_CO_SNTL\n",
      "SNOTEL:876_MT_SNTL\n",
      "SNOTEL:877_AZ_SNTL\n",
      "SNOTEL:878_WY_SNTL\n",
      "SNOTEL:895_ID_SNTL\n",
      "SNOTEL:896_UT_SNTL\n",
      "SNOTEL:897_WA_SNTL\n",
      "SNOTEL:899_WA_SNTL\n",
      "SNOTEL:901_MT_SNTL\n",
      "SNOTEL:902_AZ_SNTL\n",
      "SNOTEL:904_CO_SNTL\n",
      "SNOTEL:905_CO_SNTL\n",
      "SNOTEL:906_UT_SNTL\n",
      "SNOTEL:907_UT_SNTL\n",
      "SNOTEL:909_WA_SNTL\n",
      "SNOTEL:911_WA_SNTL\n",
      "SNOTEL:912_WA_SNTL\n",
      "SNOTEL:913_CO_SNTL\n",
      "SNOTEL:915_ID_SNTL\n",
      "SNOTEL:917_MT_SNTL\n",
      "SNOTEL:918_MT_SNTL\n",
      "SNOTEL:919_MT_SNTL\n",
      "SNOTEL:920_SD_SNTL\n",
      "SNOTEL:921_NM_SNTL\n",
      "SNOTEL:922_NM_SNTL\n",
      "SNOTEL:923_WY_SNTL\n",
      "SNOTEL:924_MT_SNTL\n",
      "SNOTEL:925_OR_SNTL\n",
      "SNOTEL:926_ID_SNTL\n",
      "SNOTEL:927_AZ_SNTL\n",
      "SNOTEL:929_MT_SNTL\n",
      "SNOTEL:930_MT_SNTL\n",
      "SNOTEL:935_CO_SNTL\n",
      "SNOTEL:936_CO_SNTL\n",
      "SNOTEL:937_CO_SNTL\n",
      "SNOTEL:939_CO_SNTL\n",
      "SNOTEL:941_WA_SNTL\n",
      "SNOTEL:942_WA_SNTL\n",
      "SNOTEL:945_OR_SNTL\n",
      "SNOTEL:972_UT_SNTL\n",
      "SNOTEL:974_WA_SNTL\n",
      "SNOTEL:975_WA_SNTL\n",
      "SNOTEL:976_OR_SNTL\n"
     ]
    },
    {
     "name": "stderr",
     "output_type": "stream",
     "text": [
      "<suds.sax.document.Document object at 0x000001D857C70F10>\n"
     ]
    },
    {
     "name": "stdout",
     "output_type": "stream",
     "text": [
      "Unable to fetch SWE data for site  SNOTEL:976_OR_SNTL SWE value: -9999\n",
      "SNOTEL:978_ID_SNTL\n",
      "SNOTEL:981_MT_SNTL\n",
      "SNOTEL:982_WY_SNTL\n",
      "SNOTEL:984_WA_SNTL\n",
      "SNOTEL:988_ID_SNTL\n",
      "SNOTEL:989_ID_SNTL\n",
      "SNOTEL:990_WA_SNTL\n",
      "SNOTEL:991_WA_SNTL\n"
     ]
    },
    {
     "name": "stderr",
     "output_type": "stream",
     "text": [
      "<suds.sax.document.Document object at 0x000001D857C703A0>\n"
     ]
    },
    {
     "name": "stdout",
     "output_type": "stream",
     "text": [
      "Unable to fetch SWE data for site  SNOTEL:991_WA_SNTL SWE value: -9999\n",
      "SNOTEL:992_UT_SNTL\n",
      "SNOTEL:994_WA_SNTL\n"
     ]
    },
    {
     "name": "stderr",
     "output_type": "stream",
     "text": [
      "<suds.sax.document.Document object at 0x000001D857C738B0>\n"
     ]
    },
    {
     "name": "stdout",
     "output_type": "stream",
     "text": [
      "Unable to fetch SWE data for site  SNOTEL:994_WA_SNTL SWE value: -9999\n",
      "SNOTEL:995_WA_SNTL\n"
     ]
    },
    {
     "name": "stderr",
     "output_type": "stream",
     "text": [
      "<suds.sax.document.Document object at 0x000001D857C73C40>\n"
     ]
    },
    {
     "name": "stdout",
     "output_type": "stream",
     "text": [
      "Unable to fetch SWE data for site  SNOTEL:995_WA_SNTL SWE value: -9999\n",
      "SNOTEL:996_WA_SNTL\n"
     ]
    },
    {
     "name": "stderr",
     "output_type": "stream",
     "text": [
      "<suds.sax.document.Document object at 0x000001D857C790A0>\n"
     ]
    },
    {
     "name": "stdout",
     "output_type": "stream",
     "text": [
      "Unable to fetch SWE data for site  SNOTEL:996_WA_SNTL SWE value: -9999\n",
      "SNOTEL:998_WA_SNTL\n",
      "SNOTEL:999_WA_SNTL\n"
     ]
    }
   ],
   "source": [
    "#Go get SNOTEL observations -- This function has not yet been set up!!!!!!!!!!!!!\n",
    "Snow.Data_Assimilation()"
   ]
  },
  {
   "cell_type": "code",
   "execution_count": 4,
   "id": "86257125",
   "metadata": {
    "scrolled": true
   },
   "outputs": [
    {
     "name": "stderr",
     "output_type": "stream",
     "text": [
      "100%|██████████| 696/696 [00:00<00:00, 2492.07it/s]\n",
      "100%|██████████| 696/696 [00:00<00:00, 2728.06it/s]\n",
      "100%|██████████| 3349/3349 [00:00<00:00, 7394.41it/s]\n",
      "100%|██████████| 2458/2458 [00:00<00:00, 7544.34it/s]\n",
      "100%|██████████| 6642/6642 [00:00<00:00, 7399.95it/s]\n",
      "100%|██████████| 6448/6448 [00:00<00:00, 7492.31it/s]\n",
      "100%|██████████| 1707/1707 [00:00<00:00, 7594.31it/s]\n",
      "100%|██████████| 25/25 [00:00<00:00, 6264.64it/s]\n",
      "100%|██████████| 10/10 [00:00<00:00, 10012.66it/s]\n",
      "100%|██████████| 16/16 [00:00<00:00, 8021.62it/s]\n",
      "100%|██████████| 15/15 [00:00<00:00, 7518.47it/s]\n",
      "100%|██████████| 12/12 [00:00<00:00, 12023.81it/s]\n",
      "100%|██████████| 9/9 [00:00<00:00, 4509.47it/s]\n",
      "100%|██████████| 8/8 [00:00<00:00, 8019.70it/s]\n",
      "100%|██████████| 5/5 [00:00<00:00, 5008.72it/s]\n",
      "100%|██████████| 7/7 [00:00<00:00, 7018.92it/s]\n",
      "100%|██████████| 13/13 [00:00<00:00, 6516.01it/s]\n",
      "100%|██████████| 3/3 [00:00<00:00, 3003.80it/s]\n",
      "100%|██████████| 9/9 [00:00<00:00, 4512.70it/s]\n",
      "100%|██████████| 6/6 [00:00<00:00, 6006.16it/s]\n",
      "100%|██████████| 12/12 [00:00<00:00, 6016.93it/s]\n",
      "100%|██████████| 1/1 [00:00<?, ?it/s]\n",
      "100%|██████████| 3/3 [00:00<?, ?it/s]\n",
      "100%|██████████| 1/1 [00:00<?, ?it/s]\n"
     ]
    },
    {
     "name": "stdout",
     "output_type": "stream",
     "text": [
      "Fixing these bad sites in  N_Sierras :\n",
      "Fixing these bad sites in  S_Sierras :\n",
      "Fixing these bad sites in  Greater_Yellowstone :\n",
      "Fixing these bad sites in  N_Co_Rockies :\n",
      "Fixing these bad sites in  SW_Mont :\n",
      "Fixing these bad sites in  SW_Co_Rockies :\n",
      "Fixing these bad sites in  GBasin :\n",
      "Fixing these bad sites in  N_Wasatch :\n",
      "Fixing these bad sites in  N_Cascade :\n",
      "Fixing these bad sites in  S_Wasatch :\n",
      "Fixing these bad sites in  SW_Mtns :\n",
      "Fixing these bad sites in  E_WA_N_Id_W_Mont :\n",
      "Fixing these bad sites in  S_Wyoming :\n",
      "Fixing these bad sites in  SE_Co_Rockies :\n",
      "Fixing these bad sites in  Sawtooth :\n",
      "Fixing these bad sites in  Ca_Coast :\n",
      "Fixing these bad sites in  E_Or :\n",
      "Fixing these bad sites in  N_Yellowstone :\n",
      "Fixing these bad sites in  S_Cascade :\n",
      "Fixing these bad sites in  Wa_Coast :\n",
      "Fixing these bad sites in  Greater_Glacier :\n",
      "Fixing these bad sites in  Or_Coast :\n"
     ]
    },
    {
     "name": "stderr",
     "output_type": "stream",
     "text": [
      "100%|██████████| 22/22 [00:00<00:00, 29.87it/s]\n",
      "100%|██████████| 22/22 [00:27<00:00,  1.23s/it]\n"
     ]
    }
   ],
   "source": [
    "#Process observations into Model prediction ready format\n",
    "Snow.Data_Processing()"
   ]
  },
  {
   "cell_type": "code",
   "execution_count": null,
   "id": "artistic-trader",
   "metadata": {
    "scrolled": true
   },
   "outputs": [
    {
     "name": "stdout",
     "output_type": "stream",
     "text": [
      "Making predictions for:  2022-05-12\n",
      "N_Sierras\n",
      "C:\\Users\\rjohnson18\\Box\\CIROH\\NSM_App_Deployment\\National-Snow-Model/Model/Prev_SWE_Models_Final/N_Sierras/N_Sierras_model.h5\n",
      "202/202 [==============================] - 0s 551us/step\n",
      "S_Sierras_High\n",
      "C:\\Users\\rjohnson18\\Box\\CIROH\\NSM_App_Deployment\\National-Snow-Model/Model/Prev_SWE_Models_Final/S_Sierras_High/S_Sierras_High_model.h5\n",
      "81/81 [==============================] - 0s 598us/step\n",
      "S_Sierras_Low\n",
      "C:\\Users\\rjohnson18\\Box\\CIROH\\NSM_App_Deployment\\National-Snow-Model/Model/Prev_SWE_Models_Final/S_Sierras_Low/S_Sierras_Low_model.h5\n",
      "128/128 [==============================] - 0s 550us/step\n",
      "Greater_Yellowstone\n",
      "C:\\Users\\rjohnson18\\Box\\CIROH\\NSM_App_Deployment\\National-Snow-Model/Model/Prev_SWE_Models_Final/Greater_Yellowstone/Greater_Yellowstone_model.h5\n",
      "105/105 [==============================] - 0s 563us/step\n",
      "N_Co_Rockies\n",
      "C:\\Users\\rjohnson18\\Box\\CIROH\\NSM_App_Deployment\\National-Snow-Model/Model/Prev_SWE_Models_Final/N_Co_Rockies/N_Co_Rockies_model.h5\n",
      "77/77 [==============================] - 0s 604us/step\n",
      "SW_Mont\n",
      "C:\\Users\\rjohnson18\\Box\\CIROH\\NSM_App_Deployment\\National-Snow-Model/Model/Prev_SWE_Models_Final/SW_Mont/SW_Mont_model.h5\n",
      "1/1 [==============================] - 0s 47ms/step\n",
      "SW_Co_Rockies\n",
      "C:\\Users\\rjohnson18\\Box\\CIROH\\NSM_App_Deployment\\National-Snow-Model/Model/Prev_SWE_Models_Final/SW_Co_Rockies/SW_Co_Rockies_model.h5\n",
      "54/54 [==============================] - 0s 583us/step\n",
      "GBasin\n",
      "C:\\Users\\rjohnson18\\Box\\CIROH\\NSM_App_Deployment\\National-Snow-Model/Model/Prev_SWE_Models_Final/GBasin/GBasin_model.h5\n"
     ]
    }
   ],
   "source": [
    "Snow.SWE_Predict()\n",
    "#switch to run a specific region?"
   ]
  },
  {
   "cell_type": "code",
   "execution_count": null,
   "id": "5628ea83",
   "metadata": {},
   "outputs": [],
   "source": [
    "#making CONUS dataset\n",
    "Snow.netCDF_CONUS(plot = False)"
   ]
  },
  {
   "cell_type": "code",
   "execution_count": null,
   "id": "b7e6f10d",
   "metadata": {},
   "outputs": [],
   "source": [
    "Snow.plot_interactive_SWE(pinlat = 39.1, pinlong = -120, web = True)"
   ]
  },
  {
   "cell_type": "code",
   "execution_count": null,
   "id": "cdfc04f3",
   "metadata": {},
   "outputs": [],
   "source": []
  }
 ],
 "metadata": {
  "kernelspec": {
   "display_name": "NSM_env",
   "language": "python",
   "name": "nsm_env"
  },
  "language_info": {
   "codemirror_mode": {
    "name": "ipython",
    "version": 3
   },
   "file_extension": ".py",
   "mimetype": "text/x-python",
   "name": "python",
   "nbconvert_exporter": "python",
   "pygments_lexer": "ipython3",
   "version": "3.9.12"
  }
 },
 "nbformat": 4,
 "nbformat_minor": 5
}
