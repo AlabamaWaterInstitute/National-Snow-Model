{
 "cells": [
  {
   "cell_type": "code",
   "execution_count": 1,
   "id": "boolean-pocket",
   "metadata": {},
   "outputs": [],
   "source": [
    "import os\n",
    "import National_Snow_Model\n",
    "\n",
    "#set path directory\n",
    "os.getcwd()\n",
    "os.chdir('..')\n",
    "cwd = os.getcwd()"
   ]
  },
  {
   "cell_type": "code",
   "execution_count": 3,
   "id": "0ea8c0c0",
   "metadata": {
    "scrolled": true
   },
   "outputs": [],
   "source": [
    "'''\n",
    "Data Assimilation for Post-Initial conditions \n",
    "'''\n",
    "\n",
    "#Dates\n",
    "#input current and previous weeks dates (these upload csv, must match dates)\n",
    "date = '06_23_2022'\n",
    "prevdate = '06_16_2022'\n",
    "\n",
    "#connect interactive script to Wasatch Snow module, \n",
    "Snow = National_Snow_Model.SWE_Prediction(cwd,date, prevdate)\n"
   ]
  },
  {
   "cell_type": "code",
   "execution_count": null,
   "id": "a09bfe19",
   "metadata": {},
   "outputs": [],
   "source": [
    "#create SnoTel data API to get site info!!!\n",
    "Snow.Data_Assimilation()"
   ]
  },
  {
   "cell_type": "code",
   "execution_count": null,
   "id": "f996bd1e",
   "metadata": {},
   "outputs": [
    {
     "name": "stderr",
     "output_type": "stream",
     "text": [
      "100%|██████████| 696/696 [00:00<00:00, 3115.48it/s]\n",
      "100%|██████████| 696/696 [00:00<00:00, 3199.75it/s]\n",
      "100%|██████████| 3349/3349 [00:00<00:00, 9249.67it/s]\n",
      "100%|██████████| 2458/2458 [00:00<00:00, 9736.35it/s]\n",
      "100%|██████████| 6642/6642 [00:00<00:00, 9595.75it/s]\n",
      "100%|██████████| 6448/6448 [00:00<00:00, 9691.29it/s]\n",
      "100%|██████████| 1707/1707 [00:00<00:00, 9753.66it/s]\n",
      "100%|██████████| 25/25 [00:00<00:00, 8354.52it/s]\n",
      "100%|██████████| 10/10 [00:00<00:00, 5013.51it/s]\n",
      "100%|██████████| 16/16 [00:00<00:00, 8017.79it/s]\n",
      "100%|██████████| 15/15 [00:00<00:00, 7512.19it/s]\n",
      "100%|██████████| 12/12 [00:00<00:00, 6011.90it/s]\n",
      "100%|██████████| 9/9 [00:00<00:00, 4514.86it/s]\n",
      "100%|██████████| 8/8 [00:00<00:00, 8017.79it/s]\n",
      "100%|██████████| 5/5 [00:00<00:00, 5013.51it/s]\n",
      "100%|██████████| 7/7 [00:00<00:00, 7022.27it/s]\n",
      "100%|██████████| 13/13 [00:00<00:00, 4334.68it/s]\n",
      "100%|██████████| 3/3 [00:00<00:00, 3004.52it/s]\n",
      "100%|██████████| 9/9 [00:00<00:00, 9020.01it/s]\n",
      "100%|██████████| 6/6 [00:00<?, ?it/s]\n",
      "100%|██████████| 12/12 [00:00<00:00, 6015.50it/s]\n",
      "100%|██████████| 1/1 [00:00<?, ?it/s]\n",
      "100%|██████████| 3/3 [00:00<00:00, 3008.11it/s]\n",
      "100%|██████████| 1/1 [00:00<?, ?it/s]\n"
     ]
    },
    {
     "name": "stdout",
     "output_type": "stream",
     "text": [
      "Fixing these bad sites in  N_Sierras :\n",
      "Fixing these bad sites in  S_Sierras :\n",
      "Fixing these bad sites in  Greater_Yellowstone :\n",
      "Fixing these bad sites in  N_Co_Rockies :\n",
      "Fixing these bad sites in  SW_Mont :\n",
      "Fixing these bad sites in  SW_Co_Rockies :\n",
      "Fixing these bad sites in  GBasin :\n",
      "Fixing these bad sites in  N_Wasatch :\n",
      "Fixing these bad sites in  N_Cascade :\n",
      "Fixing these bad sites in  S_Wasatch :\n",
      "Fixing these bad sites in  SW_Mtns :\n",
      "Fixing these bad sites in  E_WA_N_Id_W_Mont :\n",
      "Fixing these bad sites in  S_Wyoming :\n",
      "Fixing these bad sites in  SE_Co_Rockies :\n",
      "Fixing these bad sites in  Sawtooth :\n",
      "Fixing these bad sites in  Ca_Coast :\n",
      "Fixing these bad sites in  E_Or :\n",
      "Fixing these bad sites in  N_Yellowstone :\n",
      "Fixing these bad sites in  S_Cascade :\n",
      "Fixing these bad sites in  Wa_Coast :\n",
      "Fixing these bad sites in  Greater_Glacier :\n",
      "Fixing these bad sites in  Or_Coast :\n"
     ]
    },
    {
     "name": "stderr",
     "output_type": "stream",
     "text": [
      "100%|██████████| 22/22 [00:00<00:00, 22.49it/s]\n",
      "  9%|▉         | 2/22 [00:14<02:17,  6.86s/it]"
     ]
    }
   ],
   "source": [
    "#Process observations into Model prediction ready format\n",
    "Snow.Data_Processing()"
   ]
  },
  {
   "cell_type": "code",
   "execution_count": null,
   "id": "artistic-trader",
   "metadata": {
    "scrolled": true
   },
   "outputs": [],
   "source": [
    "Snow.SWE_Predict(plot = False)\n",
    "#switch to run a specific region?"
   ]
  },
  {
   "cell_type": "code",
   "execution_count": null,
   "id": "5628ea83",
   "metadata": {},
   "outputs": [],
   "source": [
    "#making CONUS dataset\n",
    "Snow.netCDF_CONUS(plot = False)"
   ]
  },
  {
   "cell_type": "code",
   "execution_count": null,
   "id": "7c5ab81f",
   "metadata": {},
   "outputs": [],
   "source": [
    "Snow.plot_interactive_SWE(pinlat = 39.1, pinlong = -120, web = True)"
   ]
  },
  {
   "cell_type": "code",
   "execution_count": null,
   "id": "c5bbcab4",
   "metadata": {},
   "outputs": [],
   "source": []
  }
 ],
 "metadata": {
  "kernelspec": {
   "display_name": "Python 3 (ipykernel)",
   "language": "python",
   "name": "python3"
  },
  "language_info": {
   "codemirror_mode": {
    "name": "ipython",
    "version": 3
   },
   "file_extension": ".py",
   "mimetype": "text/x-python",
   "name": "python",
   "nbconvert_exporter": "python",
   "pygments_lexer": "ipython3",
   "version": "3.9.7"
  }
 },
 "nbformat": 4,
 "nbformat_minor": 5
}
