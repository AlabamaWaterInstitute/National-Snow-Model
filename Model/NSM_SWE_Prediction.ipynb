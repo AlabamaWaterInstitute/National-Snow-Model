{
 "cells": [
  {
   "cell_type": "code",
   "execution_count": null,
   "id": "boolean-pocket",
   "metadata": {},
   "outputs": [],
   "source": [
    "import os\n",
    "import National_Snow_Model\n",
    "\n",
    "#set path directory\n",
    "os.getcwd()\n",
    "os.chdir('..')\n",
    "cwd = os.getcwd()"
   ]
  },
  {
   "cell_type": "code",
   "execution_count": null,
   "id": "0ea8c0c0",
   "metadata": {
    "scrolled": true
   },
   "outputs": [],
   "source": [
    "'''\n",
    "Data Assimilation for Post-Initial conditions \n",
    "'''\n",
    "\n",
    "#Dates\n",
    "#input current and previous weeks dates (these upload csv, must match dates)\n",
    "date = '06_16_2022'\n",
    "prevdate = '06_09_2022'\n",
    "\n",
    "#connect interactive script to Wasatch Snow module\n",
    "Snow = National_Snow_Model.SWE_Prediction(cwd,date, prevdate)\n",
    "\n",
    "Snow.Data_Assimilation()"
   ]
  },
  {
   "cell_type": "code",
   "execution_count": null,
   "id": "artistic-trader",
   "metadata": {
    "scrolled": true
   },
   "outputs": [],
   "source": [
    "Snow.SWE_Predict()"
   ]
  },
  {
   "cell_type": "code",
   "execution_count": null,
   "id": "9b284a50",
   "metadata": {
    "scrolled": true
   },
   "outputs": [],
   "source": [
    "Snow.Forecast['N_Sierras']"
   ]
  },
  {
   "cell_type": "code",
   "execution_count": null,
   "id": "81701ae0",
   "metadata": {},
   "outputs": [],
   "source": [
    "#put Snow.Forecast into one DF\n",
    "import pandas as pd\n",
    "import xarray as xr\n",
    "\n",
    "NA_SWE = pd.DataFrame()\n",
    "columns = ['Long', 'Lat', 'elevation_m', 'northness', '2022-06-16']\n",
    "\n",
    "for region in Snow.Forecast:\n",
    "    NA_SWE = NA_SWE.append(Snow.Forecast[region][columns])\n",
    " \n",
    "NA_SWE = NA_SWE.rename(columns = {'2022-06-16':'SWE'})\n",
    "NA_SWE['Date'] = '6-16-2022'\n",
    "\n",
    "#round to 2 decimals\n",
    "NA_SWE['Lat'] = round(NA_SWE['Lat'],2)\n",
    "NA_SWE['Long'] = round(NA_SWE['Long'],2)\n",
    "\n",
    "#NA_SWE['Lat, Long'] = NA_SWE['Lat'].astype(str) + ', ' + NA_SWE['Long'].astype(str)\n",
    "NA_SWE = NA_SWE.set_index('Date')"
   ]
  },
  {
   "cell_type": "code",
   "execution_count": null,
   "id": "4573c145",
   "metadata": {
    "scrolled": true
   },
   "outputs": [],
   "source": [
    "NA_SWE"
   ]
  },
  {
   "cell_type": "code",
   "execution_count": null,
   "id": "e6ea96c3",
   "metadata": {},
   "outputs": [],
   "source": [
    "print(min(NA_SWE['Long']), min(NA_SWE['Lat']))\n",
    "print(max(NA_SWE['Long']), max(NA_SWE['Lat']))"
   ]
  },
  {
   "cell_type": "code",
   "execution_count": null,
   "id": "9953bcb1",
   "metadata": {},
   "outputs": [],
   "source": [
    "lonrange = np.arange(min(NA_SWE['Long']), max(NA_SWE['Long']), 0.01)\n",
    "latrange = np.arange(min(NA_SWE['Lat']), max(NA_SWE['Lat']), 0.01)"
   ]
  },
  {
   "cell_type": "code",
   "execution_count": null,
   "id": "dd482f10",
   "metadata": {},
   "outputs": [],
   "source": [
    "len(lonrange)"
   ]
  },
  {
   "cell_type": "code",
   "execution_count": null,
   "id": "189e7da2",
   "metadata": {},
   "outputs": [],
   "source": [
    "fn = cwd +'/Data/NetCDF/Test.nc'\n",
    "ds = nc.Dataset(fn, 'w', format='NETCDF4')\n",
    "\n",
    "time = ds.createDimension('time', None)\n",
    "lat = ds.createDimension('lat', len(latrange))\n",
    "lon = ds.createDimension('lon', len(lonrange))"
   ]
  },
  {
   "cell_type": "code",
   "execution_count": null,
   "id": "47b2a3ab",
   "metadata": {},
   "outputs": [],
   "source": [
    "times = ds.createVariable('time', 'f4', ('time',))\n",
    "lats = ds.createVariable('lat', 'f4', ('lat',))\n",
    "lons = ds.createVariable('lon', 'f4', ('lon',))\n",
    "SWE = ds.createVariable('swe', 'f4', ('time', 'lat', 'lon',))\n",
    "SWE.units = 'in'"
   ]
  },
  {
   "cell_type": "code",
   "execution_count": null,
   "id": "5d41f153",
   "metadata": {},
   "outputs": [],
   "source": [
    "lats[:] = latrange\n",
    "lons[:] = lonrange"
   ]
  },
  {
   "cell_type": "code",
   "execution_count": null,
   "id": "a7cd88a9",
   "metadata": {},
   "outputs": [],
   "source": []
  },
  {
   "cell_type": "code",
   "execution_count": null,
   "id": "dfb6ede5",
   "metadata": {},
   "outputs": [],
   "source": [
    "\n",
    "xrdf"
   ]
  },
  {
   "cell_type": "code",
   "execution_count": null,
   "id": "792460ca",
   "metadata": {},
   "outputs": [],
   "source": [
    "len(xrdf['Long'][:])"
   ]
  },
  {
   "cell_type": "code",
   "execution_count": null,
   "id": "b3a6d1e4",
   "metadata": {},
   "outputs": [],
   "source": [
    "xrdf['elevation_m'].attrs={'units':'m', 'long_name':'Elevation'}\n",
    "xrdf['northness'].attrs={'units':'unitless', 'long_name':'northness'}\n",
    "xrdf['SWE'].attrs={'units':'in', 'long_name':'SWE_depth'}\n",
    "\n",
    "# add global attribute metadata\n",
    "xrdf.attrs={'Conventions':'CF-1.6', 'title':'SWE predictions for 6-16-2022', 'summary':'Data generated from the National Snow Model'}\n",
    "#print xr\n",
    "print(xrdf)\n",
    "# save to netCDF\n",
    "xrdf.to_netcdf(cwd +'/Data/NetCDF/SWEMAP_1km_6_16_2022.nc')"
   ]
  },
  {
   "cell_type": "code",
   "execution_count": null,
   "id": "719b1bf0",
   "metadata": {},
   "outputs": [],
   "source": []
  },
  {
   "cell_type": "code",
   "execution_count": null,
   "id": "4aa595c9",
   "metadata": {},
   "outputs": [],
   "source": []
  },
  {
   "cell_type": "code",
   "execution_count": null,
   "id": "7e0b396c",
   "metadata": {
    "scrolled": false
   },
   "outputs": [],
   "source": [
    "#Make a netcdf file\n",
    "\n",
    "import netCDF4 as nc\n",
    "import numpy as np\n",
    "\n",
    "\n",
    "\n",
    "fn = cwd +'/Data/NetCDF/SMAP_final_1km_20150401-20150407.npy.nc'\n",
    "ds = nc.Dataset(fn)"
   ]
  },
  {
   "cell_type": "code",
   "execution_count": null,
   "id": "8b5376c2",
   "metadata": {},
   "outputs": [],
   "source": [
    "ds = xr.open_dataset(fn)"
   ]
  },
  {
   "cell_type": "code",
   "execution_count": null,
   "id": "eee4754a",
   "metadata": {},
   "outputs": [],
   "source": [
    "ds"
   ]
  },
  {
   "cell_type": "code",
   "execution_count": null,
   "id": "19447fae",
   "metadata": {},
   "outputs": [],
   "source": [
    "ds.close()"
   ]
  },
  {
   "cell_type": "code",
   "execution_count": null,
   "id": "16fa87ec",
   "metadata": {},
   "outputs": [],
   "source": [
    "fn = cwd +'/Data/NetCDF/Example.nc'\n",
    "ds = nc.Dataset(fn, 'w', format='NETCDF4')\n",
    "\n",
    "time = ds.createDimension('time', None)\n",
    "lat = ds.createDimension('lat', 10)\n",
    "lon = ds.createDimension('lon', 10)\n",
    "\n",
    "times = ds.createVariable('time', 'f4', ('time',))\n",
    "lats = ds.createVariable('lat', 'f4', ('lat',))\n",
    "lons = ds.createVariable('lon', 'f4', ('lon',))\n",
    "value = ds.createVariable('value', 'f4', ('time', 'lat', 'lon',))\n",
    "value.units = 'Unknown'\n",
    "\n",
    "lats[:] = np.arange(40.0, 50.0, 1.0)\n",
    "lons[:] = np.arange(-110.0, -100.0, 1.0)\n",
    "\n",
    "value[0, :, :] = np.random.uniform(0, 100, size=(10, 10))  # unifrom random values\n",
    "\n",
    "print('var size after adding first data', value.shape)\n",
    "xval = np.linspace(0.5, 5.0, 10)\n",
    "yval = np.linspace(0.5, 5.0, 10)\n",
    "value[1, :, :] = np.array(xval.reshape(-1, 1) + yval)  # linear gradient values\n",
    "\n",
    "ds.close()"
   ]
  },
  {
   "cell_type": "code",
   "execution_count": null,
   "id": "dd072504",
   "metadata": {},
   "outputs": [],
   "source": [
    "#plot netCDF on map\n",
    "lat = nc.variables['latitude'][:]\n",
    "lon = nc.variables['longitude'][:]\n",
    "time = nc.variables['time'][:]\n",
    "t2 = nc.variables['p2t'][:] # 2 meter temperature\n",
    "mslp = nc.variables['msl'][:] # mean sea level pressure\n",
    "u = nc.variables['p10u'][:] # 10m u-component of winds\n",
    "v = nc.variables['p10v'][:] # 10m v-component of winds"
   ]
  }
 ],
 "metadata": {
  "kernelspec": {
   "display_name": "Python 3 (ipykernel)",
   "language": "python",
   "name": "python3"
  },
  "language_info": {
   "codemirror_mode": {
    "name": "ipython",
    "version": 3
   },
   "file_extension": ".py",
   "mimetype": "text/x-python",
   "name": "python",
   "nbconvert_exporter": "python",
   "pygments_lexer": "ipython3",
   "version": "3.9.7"
  }
 },
 "nbformat": 4,
 "nbformat_minor": 5
}
