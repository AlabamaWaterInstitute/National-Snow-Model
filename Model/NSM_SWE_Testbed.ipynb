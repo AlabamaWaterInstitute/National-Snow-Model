{
 "cells": [
  {
   "cell_type": "code",
   "execution_count": 1,
   "id": "boolean-pocket",
   "metadata": {},
   "outputs": [],
   "source": [
    "import os\n",
    "import National_Snow_Model\n",
    "\n",
    "#set path directory\n",
    "os.getcwd()\n",
    "os.chdir('..')\n",
    "cwd = os.getcwd()"
   ]
  },
  {
   "cell_type": "code",
   "execution_count": 2,
   "id": "0ea8c0c0",
   "metadata": {
    "scrolled": true
   },
   "outputs": [],
   "source": [
    "'''\n",
    "Model Spin Up\n",
    "'''\n",
    "\n",
    "#Dates\n",
    "#input current and previous weeks dates (these upload csv, must match dates)\n",
    "date = '04_07_2022'\n",
    "prevdate = '03_31_2022'\n",
    "\n",
    "#connect interactive script to Wasatch Snow module\n",
    "Snow = National_Snow_Model.SWE_Prediction(cwd,date, prevdate)\n"
   ]
  },
  {
   "cell_type": "code",
   "execution_count": null,
   "id": "a00e4278",
   "metadata": {},
   "outputs": [],
   "source": [
    "#Go get SNOTEL observations -- This function has not yet been set up!!!!!!!!!!!!!\n",
    "Snow.Data_Assimilations()"
   ]
  },
  {
   "cell_type": "code",
   "execution_count": null,
   "id": "0e170b40",
   "metadata": {},
   "outputs": [],
   "source": [
    "#Process observations into Model prediction ready format\n",
    "\n",
    "Snow.Data_Processing()"
   ]
  },
  {
   "cell_type": "code",
   "execution_count": 3,
   "id": "artistic-trader",
   "metadata": {
    "scrolled": true
   },
   "outputs": [
    {
     "name": "stdout",
     "output_type": "stream",
     "text": [
      "Making predictions for:  2022-04-07\n",
      "N_Sierras\n",
      "C:\\Users\\rjohnson18\\Box\\ItalianAlps\\SnowCast\\National_Snow_Model/Model/Prev_SWE_Models_Final/N_Sierras/N_Sierras_model.h5\n",
      "S_Sierras_High\n",
      "C:\\Users\\rjohnson18\\Box\\ItalianAlps\\SnowCast\\National_Snow_Model/Model/Prev_SWE_Models_Final/S_Sierras_High/S_Sierras_High_model.h5\n",
      "S_Sierras_Low\n",
      "C:\\Users\\rjohnson18\\Box\\ItalianAlps\\SnowCast\\National_Snow_Model/Model/Prev_SWE_Models_Final/S_Sierras_Low/S_Sierras_Low_model.h5\n",
      "Greater_Yellowstone\n",
      "C:\\Users\\rjohnson18\\Box\\ItalianAlps\\SnowCast\\National_Snow_Model/Model/Prev_SWE_Models_Final/Greater_Yellowstone/Greater_Yellowstone_model.h5\n",
      "N_Co_Rockies\n",
      "C:\\Users\\rjohnson18\\Box\\ItalianAlps\\SnowCast\\National_Snow_Model/Model/Prev_SWE_Models_Final/N_Co_Rockies/N_Co_Rockies_model.h5\n",
      "SW_Mont\n",
      "C:\\Users\\rjohnson18\\Box\\ItalianAlps\\SnowCast\\National_Snow_Model/Model/Prev_SWE_Models_Final/SW_Mont/SW_Mont_model.h5\n",
      "SW_Co_Rockies\n",
      "C:\\Users\\rjohnson18\\Box\\ItalianAlps\\SnowCast\\National_Snow_Model/Model/Prev_SWE_Models_Final/SW_Co_Rockies/SW_Co_Rockies_model.h5\n",
      "GBasin\n",
      "C:\\Users\\rjohnson18\\Box\\ItalianAlps\\SnowCast\\National_Snow_Model/Model/Prev_SWE_Models_Final/GBasin/GBasin_model.h5\n",
      "N_Wasatch\n",
      "C:\\Users\\rjohnson18\\Box\\ItalianAlps\\SnowCast\\National_Snow_Model/Model/Prev_SWE_Models_Final/N_Wasatch/N_Wasatch_model.h5\n",
      "N_Cascade\n",
      "C:\\Users\\rjohnson18\\Box\\ItalianAlps\\SnowCast\\National_Snow_Model/Model/Prev_SWE_Models_Final/N_Cascade/N_Cascade_model.h5\n",
      "S_Wasatch\n",
      "C:\\Users\\rjohnson18\\Box\\ItalianAlps\\SnowCast\\National_Snow_Model/Model/Prev_SWE_Models_Final/S_Wasatch/S_Wasatch_model.h5\n",
      "WARNING:tensorflow:5 out of the last 58 calls to <function Model.make_predict_function.<locals>.predict_function at 0x00000205CAF6E700> triggered tf.function retracing. Tracing is expensive and the excessive number of tracings could be due to (1) creating @tf.function repeatedly in a loop, (2) passing tensors with different shapes, (3) passing Python objects instead of tensors. For (1), please define your @tf.function outside of the loop. For (2), @tf.function has experimental_relax_shapes=True option that relaxes argument shapes that can avoid unnecessary retracing. For (3), please refer to https://www.tensorflow.org/guide/function#controlling_retracing and https://www.tensorflow.org/api_docs/python/tf/function for  more details.\n",
      "SW_Mtns\n",
      "C:\\Users\\rjohnson18\\Box\\ItalianAlps\\SnowCast\\National_Snow_Model/Model/Prev_SWE_Models_Final/SW_Mtns/SW_Mtns_model.h5\n",
      "WARNING:tensorflow:6 out of the last 59 calls to <function Model.make_predict_function.<locals>.predict_function at 0x00000205CAF6E9D0> triggered tf.function retracing. Tracing is expensive and the excessive number of tracings could be due to (1) creating @tf.function repeatedly in a loop, (2) passing tensors with different shapes, (3) passing Python objects instead of tensors. For (1), please define your @tf.function outside of the loop. For (2), @tf.function has experimental_relax_shapes=True option that relaxes argument shapes that can avoid unnecessary retracing. For (3), please refer to https://www.tensorflow.org/guide/function#controlling_retracing and https://www.tensorflow.org/api_docs/python/tf/function for  more details.\n",
      "E_WA_N_Id_W_Mont\n",
      "C:\\Users\\rjohnson18\\Box\\ItalianAlps\\SnowCast\\National_Snow_Model/Model/Prev_SWE_Models_Final/E_WA_N_Id_W_Mont/E_WA_N_Id_W_Mont_model.h5\n",
      "S_Wyoming\n",
      "C:\\Users\\rjohnson18\\Box\\ItalianAlps\\SnowCast\\National_Snow_Model/Model/Prev_SWE_Models_Final/S_Wyoming/S_Wyoming_model.h5\n",
      "SE_Co_Rockies\n",
      "C:\\Users\\rjohnson18\\Box\\ItalianAlps\\SnowCast\\National_Snow_Model/Model/Prev_SWE_Models_Final/SE_Co_Rockies/SE_Co_Rockies_model.h5\n",
      "Sawtooth\n",
      "C:\\Users\\rjohnson18\\Box\\ItalianAlps\\SnowCast\\National_Snow_Model/Model/Prev_SWE_Models_Final/Sawtooth/Sawtooth_model.h5\n",
      "Ca_Coast\n",
      "C:\\Users\\rjohnson18\\Box\\ItalianAlps\\SnowCast\\National_Snow_Model/Model/Prev_SWE_Models_Final/Ca_Coast/Ca_Coast_model.h5\n",
      "E_Or\n",
      "C:\\Users\\rjohnson18\\Box\\ItalianAlps\\SnowCast\\National_Snow_Model/Model/Prev_SWE_Models_Final/E_Or/E_Or_model.h5\n",
      "N_Yellowstone\n",
      "C:\\Users\\rjohnson18\\Box\\ItalianAlps\\SnowCast\\National_Snow_Model/Model/Prev_SWE_Models_Final/N_Yellowstone/N_Yellowstone_model.h5\n",
      "S_Cascade\n",
      "C:\\Users\\rjohnson18\\Box\\ItalianAlps\\SnowCast\\National_Snow_Model/Model/Prev_SWE_Models_Final/S_Cascade/S_Cascade_model.h5\n",
      "Wa_Coast\n",
      "C:\\Users\\rjohnson18\\Box\\ItalianAlps\\SnowCast\\National_Snow_Model/Model/Prev_SWE_Models_Final/Wa_Coast/Wa_Coast_model.h5\n",
      "Greater_Glacier\n",
      "C:\\Users\\rjohnson18\\Box\\ItalianAlps\\SnowCast\\National_Snow_Model/Model/Prev_SWE_Models_Final/Greater_Glacier/Greater_Glacier_model.h5\n",
      "Or_Coast\n",
      "C:\\Users\\rjohnson18\\Box\\ItalianAlps\\SnowCast\\National_Snow_Model/Model/Prev_SWE_Models_Final/Or_Coast/Or_Coast_model.h5\n"
     ]
    }
   ],
   "source": [
    "Snow.SWE_Predict(plot = False)"
   ]
  },
  {
   "cell_type": "code",
   "execution_count": 4,
   "id": "3094746b",
   "metadata": {},
   "outputs": [],
   "source": [
    "#Snow.netCDF2(plot = False)"
   ]
  },
  {
   "cell_type": "code",
   "execution_count": 4,
   "id": "e92e10ca",
   "metadata": {
    "scrolled": true
   },
   "outputs": [
    {
     "name": "stdout",
     "output_type": "stream",
     "text": [
      "<class 'netCDF4._netCDF4.Dataset'>\n",
      "root group (NETCDF4 data model, file format HDF5):\n",
      "    title: SWE interpolation for 2022-04-07\n",
      "    dimensions(sizes): lat(2387), lon(5780), time(1)\n",
      "    variables(dimensions): float32 lat(lat), float32 lon(lon), float64 time(time), float64 SWE(time, lat, lon)\n",
      "    groups: \n",
      "File conversion to netcdf complete\n"
     ]
    }
   ],
   "source": [
    "#making CONUS dataset\n",
    "Snow.netCDF_CONUS(plot = False)"
   ]
  },
  {
   "cell_type": "code",
   "execution_count": 4,
   "id": "fa7d1720",
   "metadata": {},
   "outputs": [
    {
     "name": "stdout",
     "output_type": "stream",
     "text": [
      "Converting to GeoDataFrame...\n",
      "File conversion complete, creating mapping instance\n"
     ]
    }
   ],
   "source": [
    "Snow.plot_interactive_SWE(pinlat = 39.1, pinlong = -120, web = True)"
   ]
  },
  {
   "cell_type": "code",
   "execution_count": null,
   "id": "bb570365",
   "metadata": {},
   "outputs": [],
   "source": []
  }
 ],
 "metadata": {
  "kernelspec": {
   "display_name": "Python 3 (ipykernel)",
   "language": "python",
   "name": "python3"
  },
  "language_info": {
   "codemirror_mode": {
    "name": "ipython",
    "version": 3
   },
   "file_extension": ".py",
   "mimetype": "text/x-python",
   "name": "python",
   "nbconvert_exporter": "python",
   "pygments_lexer": "ipython3",
   "version": "3.9.7"
  }
 },
 "nbformat": 4,
 "nbformat_minor": 5
}
