{
 "cells": [
  {
   "cell_type": "code",
   "execution_count": null,
   "id": "boolean-pocket",
   "metadata": {},
   "outputs": [],
   "source": [
    "import os\n",
    "import National_Snow_Model\n",
    "\n",
    "#set path directory\n",
    "os.getcwd()\n",
    "os.chdir('..')\n",
    "cwd = os.getcwd()"
   ]
  },
  {
   "cell_type": "code",
   "execution_count": null,
   "id": "0ea8c0c0",
   "metadata": {
    "scrolled": true
   },
   "outputs": [],
   "source": [
    "'''\n",
    "Data Assimilation for Post-Initial conditions \n",
    "'''\n",
    "\n",
    "#Dates\n",
    "#input current and previous weeks dates (these upload csv, must match dates)\n",
    "date = '06_16_2022'\n",
    "prevdate = '06_09_2022'\n",
    "\n",
    "#connect interactive script to Wasatch Snow module\n",
    "Snow = National_Snow_Model.SWE_Prediction(cwd,date, prevdate)\n",
    "\n",
    "Snow.Data_Assimilation()"
   ]
  },
  {
   "cell_type": "code",
   "execution_count": null,
   "id": "artistic-trader",
   "metadata": {
    "scrolled": true
   },
   "outputs": [],
   "source": [
    "Snow.SWE_Predict(plot = False)"
   ]
  },
  {
   "cell_type": "code",
   "execution_count": null,
   "id": "3094746b",
   "metadata": {},
   "outputs": [],
   "source": [
    "Snow.netCDF()"
   ]
  },
  {
   "cell_type": "code",
   "execution_count": null,
   "id": "08408f52",
   "metadata": {},
   "outputs": [],
   "source": []
  }
 ],
 "metadata": {
  "kernelspec": {
   "display_name": "Python 3 (ipykernel)",
   "language": "python",
   "name": "python3"
  },
  "language_info": {
   "codemirror_mode": {
    "name": "ipython",
    "version": 3
   },
   "file_extension": ".py",
   "mimetype": "text/x-python",
   "name": "python",
   "nbconvert_exporter": "python",
   "pygments_lexer": "ipython3",
   "version": "3.9.7"
  }
 },
 "nbformat": 4,
 "nbformat_minor": 5
}
